{
  "nbformat": 4,
  "nbformat_minor": 0,
  "metadata": {
    "colab": {
      "provenance": [],
      "toc_visible": true
    },
    "kernelspec": {
      "name": "python3",
      "display_name": "Python 3"
    },
    "language_info": {
      "name": "python"
    }
  },
  "cells": [
    {
      "cell_type": "code",
      "execution_count": null,
      "metadata": {
        "id": "hIBg7AfF6Mnx"
      },
      "outputs": [],
      "source": [
        "from typing import Any, Dict, Iterable, Tuple\n",
        "\n",
        "import matplotlib.pyplot as plt\n",
        "import numpy as np\n",
        "import pandas as pd\n",
        "import seaborn as sns\n",
        "import tensorflow as tf"
      ]
    },
    {
      "cell_type": "markdown",
      "source": [
        "# Generate data"
      ],
      "metadata": {
        "id": "WuL4E2KA6XSs"
      }
    },
    {
      "cell_type": "code",
      "source": [
        "N_COVAR = 128"
      ],
      "metadata": {
        "id": "TGTspMD3dys9"
      },
      "execution_count": null,
      "outputs": []
    },
    {
      "cell_type": "code",
      "source": [
        "def gen_data(\n",
        "  n: int,\n",
        "  base_rate=0.50,\n",
        "  cens_prop=0.20,\n",
        "  n_covar=N_COVAR,\n",
        ") -> Dict[str, np.ndarray]:\n",
        "  \"\"\"Generate data.\n",
        "  \n",
        "  Args:\n",
        "    n: Sample size.\n",
        "    base_rate: Base event rate.\n",
        "    cens_prop: Expected censoring proportion.\n",
        "    n_covar: Number of covariates.\n",
        "    n_freq: Number of frequencies.\n",
        "  \n",
        "  \"\"\"\n",
        "\n",
        "  # Covariates.\n",
        "  x = np.random.rand(n, n_covar)\n",
        "  \n",
        "  # Linear predictor.\n",
        "  coef = np.random.randn(n_covar)\n",
        "  eta = np.dot(x, coef)\n",
        "  eta = (eta - np.mean(eta)) / np.std(eta)\n",
        "\n",
        "  # Time-to-event.\n",
        "  event_rate = base_rate * np.exp(eta)\n",
        "  event_time = np.random.exponential(scale=1/event_rate, size=len(event_rate))\n",
        "\n",
        "  cens_rate = cens_prop / (1 - cens_prop) * event_rate \n",
        "  cens_time = np.random.exponential(scale=1/cens_rate, size=len(cens_rate))\n",
        "\n",
        "  status = (event_time <= cens_time)\n",
        "  time = np.where(status, event_time, cens_time)\n",
        "\n",
        "  # Target matrix.\n",
        "  y = np.stack((status, time), axis=1)\n",
        "\n",
        "  # Output.\n",
        "  return {\n",
        "    \"x\": x,\n",
        "    \"risk\": event_rate,\n",
        "    \"status\": status,\n",
        "    \"time\": time,\n",
        "    \"y\": y,\n",
        "  }"
      ],
      "metadata": {
        "id": "0nGaPZhy6RHQ"
      },
      "execution_count": null,
      "outputs": []
    },
    {
      "cell_type": "code",
      "source": [
        "def split_data(\n",
        "  data: Dict[str, np.ndarray],\n",
        "  train_prop: float = 0.6,\n",
        "  val_prop: float = 0.2,\n",
        ") -> Dict[str, np.ndarray]:\n",
        "\n",
        "  n = len(data[\"time\"])\n",
        "  test_prop = 1 - (train_prop + val_prop)\n",
        "  assert test_prop >= 0\n",
        "\n",
        "  n_train = int(n * train_prop)\n",
        "  n_val = int(n * val_prop)\n",
        "  n_test = int(n * test_prop)\n",
        "\n",
        "  out = {}\n",
        "  for key in data.keys():\n",
        "    out[f\"train_{key}\"] = data[key][:n_train]\n",
        "    out[f\"val_{key}\"] = data[key][n_train:(n_train + n_val)]\n",
        "    out[f\"test_{key}\"] = data[key][(n_train + n_val):]\n",
        "  \n",
        "  return out"
      ],
      "metadata": {
        "id": "WiBMyLRfA9Hw"
      },
      "execution_count": null,
      "outputs": []
    },
    {
      "cell_type": "markdown",
      "source": [
        "## Overall"
      ],
      "metadata": {
        "id": "xSG1hyTxfldO"
      }
    },
    {
      "cell_type": "code",
      "source": [
        "class PrepData:\n",
        "\n",
        "  def __init__(\n",
        "    self,\n",
        "    n: int,\n",
        "    base_rate=0.50,\n",
        "    batch_size=128,\n",
        "    cens_prop=0.20,\n",
        "    n_covar=N_COVAR,\n",
        "    train_prop=0.6,\n",
        "    val_prop=0.2,\n",
        "  ) -> None:\n",
        "    self.data = gen_data(n, base_rate, cens_prop, n_covar)\n",
        "    self.split_data = split_data(self.data, train_prop, val_prop)\n",
        "    self.n = n\n",
        "    self.base_rate = base_rate\n",
        "    self.cens_prop = cens_prop\n",
        "    self.n_covar = n_covar\n",
        "  \n",
        "  def get_orig_data(self) -> Dict[str, np.ndarray]:\n",
        "    return self.data\n",
        "  \n",
        "  def get_split_data(self) -> Dict[str, np.ndarray]:\n",
        "    return self.split_data"
      ],
      "metadata": {
        "id": "yE97Bl7wgxr-"
      },
      "execution_count": null,
      "outputs": []
    },
    {
      "cell_type": "code",
      "source": [
        "class DataGenerator:\n",
        "\n",
        "  def __init__(\n",
        "    self,\n",
        "    x: np.ndarray,\n",
        "    y: np.ndarray,\n",
        "    batch_size=128,\n",
        "  ):\n",
        "    self.n = x.shape[0]\n",
        "    self.x = x\n",
        "    self.y = y  \n",
        "    self.batch_size = batch_size\n",
        "    self.n_covar = x.shape[1]\n",
        "    self.steps_per_epoch = self.n // batch_size\n",
        "   \n",
        "  def get_batch(\n",
        "      self, index: np.ndarray) -> Tuple[np.ndarray, Tuple[np.ndarray]]:\n",
        "      x = self.x[index]\n",
        "      y = self.y[index]\n",
        "      return x, y\n",
        "  \n",
        "  def generator(self) -> Iterable[Tuple[np.ndarray, Tuple[np.ndarray]]]:\n",
        "    index = np.arange(self.n)\n",
        "    for b in range(self.steps_per_epoch):\n",
        "      start = b * self.batch_size\n",
        "      idx = index[start:(start + self.batch_size)]\n",
        "      yield self.get_batch(idx)\n",
        "  \n",
        "  def make_dataset(self) -> tf.data.Dataset:\n",
        "    \"\"\"Create dataset from generator.\"\"\"\n",
        "    ds = tf.data.Dataset.from_generator(\n",
        "      self.generator,\n",
        "      output_signature=(\n",
        "        tf.TensorSpec(shape=(self.batch_size, self.n_covar), dtype=tf.float32),\n",
        "        tf.TensorSpec(shape=(self.batch_size, 2), dtype=tf.float32)\n",
        "      )\n",
        "    )\n",
        "    return ds\n",
        "  \n",
        "  def __call__(self) -> tf.data.Dataset:\n",
        "    return self.make_dataset()"
      ],
      "metadata": {
        "id": "9hoeDEeEBSYP"
      },
      "execution_count": null,
      "outputs": []
    },
    {
      "cell_type": "code",
      "source": [
        "def prep_datasets(\n",
        "    split_data: Dict[str, np.ndarray],\n",
        "    batch_size=128,\n",
        "  ) -> Dict[str, tf.data.Dataset]:\n",
        "  sets = [\"train\", \"val\", \"test\"]\n",
        "  out = {}\n",
        "  for key in sets:\n",
        "    x = split_data[f\"{key}_x\"]\n",
        "    y = split_data[f\"{key}_y\"]\n",
        "    data_fn = DataGenerator(x, y, batch_size)\n",
        "    ds = data_fn()\n",
        "    out[f\"{key}\"] = ds\n",
        "  return out"
      ],
      "metadata": {
        "id": "ao4KzS4fcGRu"
      },
      "execution_count": null,
      "outputs": []
    },
    {
      "cell_type": "markdown",
      "source": [
        "# Kaplan-Meier"
      ],
      "metadata": {
        "id": "6zIn6NnUz8-_"
      }
    },
    {
      "cell_type": "code",
      "source": [
        "def kaplan_meier(status: np.ndarray, time: np.ndarray) -> pd.DataFrame:\n",
        "  \"\"\"Taublate Kaplan-Meier Curve.\"\"\"\n",
        "  \n",
        "  # Add 0 if not present.\n",
        "  unique_times = np.sort(np.unique(time))\n",
        "  if not (0 in unique_times):\n",
        "    unique_times = np.insert(unique_times, 0, 0)\n",
        "  n_unique_time = len(unique_times)\n",
        "\n",
        "  at_risk = []\n",
        "  events = []\n",
        "  censorings = []\n",
        "\n",
        "  for u in unique_times:\n",
        "    at_risk.append(np.sum(time >= u))\n",
        "\n",
        "    events.append(np.sum((time == u) & status))\n",
        "    censorings.append(np.sum((time == u) & ~status))\n",
        "\n",
        "  out = pd.DataFrame({\n",
        "    \"time\": unique_times,\n",
        "    \"n_at_risk\": at_risk,\n",
        "    \"n_event\": events,\n",
        "    \"n_cens\": censorings,\n",
        "  })\n",
        "  out[\"haz\"] = out.n_event / out.n_at_risk\n",
        "  out[\"surv\"] = np.cumprod(1 - out.haz)\n",
        "  return out  "
      ],
      "metadata": {
        "id": "3MvKcTRA5j7Y"
      },
      "execution_count": null,
      "outputs": []
    },
    {
      "cell_type": "markdown",
      "source": [
        "## Estimator"
      ],
      "metadata": {
        "id": "Uc88st1q3zKf"
      }
    },
    {
      "cell_type": "code",
      "source": [
        "class KaplanMeier:\n",
        "\n",
        "  def __init__(self, status: np.ndarray, time: np.ndarray) -> None:\n",
        "    self.status = status\n",
        "    self.time = time\n",
        "    self.km = kaplan_meier(self.status, self.time)\n",
        "  \n",
        "  def return_table(self) -> pd.DataFrame:\n",
        "    return self.km\n",
        "    \n",
        "  def __call__(self, x: float) -> float:\n",
        "    km = self.km\n",
        "    return km.surv[np.max(np.where(km.time <= x))]"
      ],
      "metadata": {
        "id": "bp-kQa8Qz_Q1"
      },
      "execution_count": null,
      "outputs": []
    },
    {
      "cell_type": "code",
      "source": [
        "# Fit Kaplan-Meier.\n",
        "km = KaplanMeier(\n",
        "  status = np.array([True, False, True, False]),\n",
        "  time = np.arange(1, 5)\n",
        ")\n",
        "km.return_table()"
      ],
      "metadata": {
        "colab": {
          "base_uri": "https://localhost:8080/",
          "height": 206
        },
        "id": "orUVzFo7_eQM",
        "outputId": "679ab7cb-94f2-4427-e357-b39d1930786a"
      },
      "execution_count": null,
      "outputs": [
        {
          "output_type": "execute_result",
          "data": {
            "text/plain": [
              "   time  n_at_risk  n_event  n_cens   haz   surv\n",
              "0     0          4        0       0  0.00  1.000\n",
              "1     1          4        1       0  0.25  0.750\n",
              "2     2          3        0       1  0.00  0.750\n",
              "3     3          2        1       0  0.50  0.375\n",
              "4     4          1        0       1  0.00  0.375"
            ],
            "text/html": [
              "\n",
              "  <div id=\"df-fd5fea65-59a7-4554-ae5b-1679c23d9d37\">\n",
              "    <div class=\"colab-df-container\">\n",
              "      <div>\n",
              "<style scoped>\n",
              "    .dataframe tbody tr th:only-of-type {\n",
              "        vertical-align: middle;\n",
              "    }\n",
              "\n",
              "    .dataframe tbody tr th {\n",
              "        vertical-align: top;\n",
              "    }\n",
              "\n",
              "    .dataframe thead th {\n",
              "        text-align: right;\n",
              "    }\n",
              "</style>\n",
              "<table border=\"1\" class=\"dataframe\">\n",
              "  <thead>\n",
              "    <tr style=\"text-align: right;\">\n",
              "      <th></th>\n",
              "      <th>time</th>\n",
              "      <th>n_at_risk</th>\n",
              "      <th>n_event</th>\n",
              "      <th>n_cens</th>\n",
              "      <th>haz</th>\n",
              "      <th>surv</th>\n",
              "    </tr>\n",
              "  </thead>\n",
              "  <tbody>\n",
              "    <tr>\n",
              "      <th>0</th>\n",
              "      <td>0</td>\n",
              "      <td>4</td>\n",
              "      <td>0</td>\n",
              "      <td>0</td>\n",
              "      <td>0.00</td>\n",
              "      <td>1.000</td>\n",
              "    </tr>\n",
              "    <tr>\n",
              "      <th>1</th>\n",
              "      <td>1</td>\n",
              "      <td>4</td>\n",
              "      <td>1</td>\n",
              "      <td>0</td>\n",
              "      <td>0.25</td>\n",
              "      <td>0.750</td>\n",
              "    </tr>\n",
              "    <tr>\n",
              "      <th>2</th>\n",
              "      <td>2</td>\n",
              "      <td>3</td>\n",
              "      <td>0</td>\n",
              "      <td>1</td>\n",
              "      <td>0.00</td>\n",
              "      <td>0.750</td>\n",
              "    </tr>\n",
              "    <tr>\n",
              "      <th>3</th>\n",
              "      <td>3</td>\n",
              "      <td>2</td>\n",
              "      <td>1</td>\n",
              "      <td>0</td>\n",
              "      <td>0.50</td>\n",
              "      <td>0.375</td>\n",
              "    </tr>\n",
              "    <tr>\n",
              "      <th>4</th>\n",
              "      <td>4</td>\n",
              "      <td>1</td>\n",
              "      <td>0</td>\n",
              "      <td>1</td>\n",
              "      <td>0.00</td>\n",
              "      <td>0.375</td>\n",
              "    </tr>\n",
              "  </tbody>\n",
              "</table>\n",
              "</div>\n",
              "      <button class=\"colab-df-convert\" onclick=\"convertToInteractive('df-fd5fea65-59a7-4554-ae5b-1679c23d9d37')\"\n",
              "              title=\"Convert this dataframe to an interactive table.\"\n",
              "              style=\"display:none;\">\n",
              "        \n",
              "  <svg xmlns=\"http://www.w3.org/2000/svg\" height=\"24px\"viewBox=\"0 0 24 24\"\n",
              "       width=\"24px\">\n",
              "    <path d=\"M0 0h24v24H0V0z\" fill=\"none\"/>\n",
              "    <path d=\"M18.56 5.44l.94 2.06.94-2.06 2.06-.94-2.06-.94-.94-2.06-.94 2.06-2.06.94zm-11 1L8.5 8.5l.94-2.06 2.06-.94-2.06-.94L8.5 2.5l-.94 2.06-2.06.94zm10 10l.94 2.06.94-2.06 2.06-.94-2.06-.94-.94-2.06-.94 2.06-2.06.94z\"/><path d=\"M17.41 7.96l-1.37-1.37c-.4-.4-.92-.59-1.43-.59-.52 0-1.04.2-1.43.59L10.3 9.45l-7.72 7.72c-.78.78-.78 2.05 0 2.83L4 21.41c.39.39.9.59 1.41.59.51 0 1.02-.2 1.41-.59l7.78-7.78 2.81-2.81c.8-.78.8-2.07 0-2.86zM5.41 20L4 18.59l7.72-7.72 1.47 1.35L5.41 20z\"/>\n",
              "  </svg>\n",
              "      </button>\n",
              "      \n",
              "  <style>\n",
              "    .colab-df-container {\n",
              "      display:flex;\n",
              "      flex-wrap:wrap;\n",
              "      gap: 12px;\n",
              "    }\n",
              "\n",
              "    .colab-df-convert {\n",
              "      background-color: #E8F0FE;\n",
              "      border: none;\n",
              "      border-radius: 50%;\n",
              "      cursor: pointer;\n",
              "      display: none;\n",
              "      fill: #1967D2;\n",
              "      height: 32px;\n",
              "      padding: 0 0 0 0;\n",
              "      width: 32px;\n",
              "    }\n",
              "\n",
              "    .colab-df-convert:hover {\n",
              "      background-color: #E2EBFA;\n",
              "      box-shadow: 0px 1px 2px rgba(60, 64, 67, 0.3), 0px 1px 3px 1px rgba(60, 64, 67, 0.15);\n",
              "      fill: #174EA6;\n",
              "    }\n",
              "\n",
              "    [theme=dark] .colab-df-convert {\n",
              "      background-color: #3B4455;\n",
              "      fill: #D2E3FC;\n",
              "    }\n",
              "\n",
              "    [theme=dark] .colab-df-convert:hover {\n",
              "      background-color: #434B5C;\n",
              "      box-shadow: 0px 1px 3px 1px rgba(0, 0, 0, 0.15);\n",
              "      filter: drop-shadow(0px 1px 2px rgba(0, 0, 0, 0.3));\n",
              "      fill: #FFFFFF;\n",
              "    }\n",
              "  </style>\n",
              "\n",
              "      <script>\n",
              "        const buttonEl =\n",
              "          document.querySelector('#df-fd5fea65-59a7-4554-ae5b-1679c23d9d37 button.colab-df-convert');\n",
              "        buttonEl.style.display =\n",
              "          google.colab.kernel.accessAllowed ? 'block' : 'none';\n",
              "\n",
              "        async function convertToInteractive(key) {\n",
              "          const element = document.querySelector('#df-fd5fea65-59a7-4554-ae5b-1679c23d9d37');\n",
              "          const dataTable =\n",
              "            await google.colab.kernel.invokeFunction('convertToInteractive',\n",
              "                                                     [key], {});\n",
              "          if (!dataTable) return;\n",
              "\n",
              "          const docLinkHtml = 'Like what you see? Visit the ' +\n",
              "            '<a target=\"_blank\" href=https://colab.research.google.com/notebooks/data_table.ipynb>data table notebook</a>'\n",
              "            + ' to learn more about interactive tables.';\n",
              "          element.innerHTML = '';\n",
              "          dataTable['output_type'] = 'display_data';\n",
              "          await google.colab.output.renderOutput(dataTable, element);\n",
              "          const docLink = document.createElement('div');\n",
              "          docLink.innerHTML = docLinkHtml;\n",
              "          element.appendChild(docLink);\n",
              "        }\n",
              "      </script>\n",
              "    </div>\n",
              "  </div>\n",
              "  "
            ]
          },
          "metadata": {},
          "execution_count": 10
        }
      ]
    },
    {
      "cell_type": "code",
      "source": [
        "# Evaluate Kaplan-Meier.\n",
        "km(1.1)"
      ],
      "metadata": {
        "colab": {
          "base_uri": "https://localhost:8080/"
        },
        "id": "jwIEwT3I_lt4",
        "outputId": "09a87024-5d60-4cc9-a92f-f3a140145b08"
      },
      "execution_count": null,
      "outputs": [
        {
          "output_type": "execute_result",
          "data": {
            "text/plain": [
              "0.75"
            ]
          },
          "metadata": {},
          "execution_count": 11
        }
      ]
    },
    {
      "cell_type": "markdown",
      "source": [
        "# C-statistic\n",
        "\n",
        "* Reference: [On the C-statistics for Evaluating Overall Adequacy of Risk Prediction Procedures with Censored Survival Data](https://www.ncbi.nlm.nih.gov/pmc/articles/PMC3079915/)."
      ],
      "metadata": {
        "id": "yKf4ZGBFBlFY"
      }
    },
    {
      "cell_type": "code",
      "source": [
        "def cstat_caculation(km, risk, status, tau, time):  \n",
        "  n = len(risk)\n",
        "  upper = 0\n",
        "  lower = 0\n",
        "\n",
        "  for i in range(n):\n",
        "    di, ti, ri = status[i], time[i], risk[i]\n",
        "    if not di:\n",
        "      continue\n",
        "\n",
        "    for j in range(n):\n",
        "      tj, rj = time[j], risk[j]\n",
        "\n",
        "      if (ti < tj) & (ti < tau):\n",
        "        p_cens = np.squeeze(km(ti))\n",
        "        weight = 1 / (p_cens ** 2)\n",
        "        upper += weight * (ri > rj)\n",
        "        lower += weight\n",
        "  \n",
        "  return upper, lower"
      ],
      "metadata": {
        "id": "Sq8o61DGkwYt"
      },
      "execution_count": null,
      "outputs": []
    },
    {
      "cell_type": "code",
      "source": [
        "class Cstat:\n",
        "  \"\"\"Calculate concordance.\n",
        "  \n",
        "  Note that the Kaplan-Meier curve of the censoring distribution may be fit\n",
        "  using different data from that used to calculate the C-statistic.\n",
        "  \n",
        "  \"\"\"\n",
        "\n",
        "  def __init__(self, status: np.ndarray, time: np.ndarray, tau=None) -> None:\n",
        "    self.km = KaplanMeier(~status, time)\n",
        "    if not tau:\n",
        "      tau = np.percentile(time, q=95)\n",
        "    self.tau = tau\n",
        "  \n",
        "  def __call__(\n",
        "    self,\n",
        "    risk: np.ndarray,\n",
        "    status: np.ndarray,\n",
        "    time: np.ndarray,\n",
        "    tau=None\n",
        "  ) -> float:\n",
        "\n",
        "    upper, lower = cstat_caculation(self.km, risk, status, self.tau, time)\n",
        "    return upper / lower if lower > 0 else 0.5"
      ],
      "metadata": {
        "id": "HqdSaYhFBmmQ"
      },
      "execution_count": null,
      "outputs": []
    },
    {
      "cell_type": "markdown",
      "source": [
        "## Testing"
      ],
      "metadata": {
        "id": "nQdMkKharX4m"
      }
    },
    {
      "cell_type": "code",
      "source": [
        "data_fn = PrepData(n=100)\n",
        "data = data_fn.get_split_data()"
      ],
      "metadata": {
        "id": "E8y0Ih8VrZJU"
      },
      "execution_count": null,
      "outputs": []
    },
    {
      "cell_type": "code",
      "source": [
        "cstat = Cstat(data[\"train_status\"], data[\"train_time\"])"
      ],
      "metadata": {
        "id": "x6_OxYJfrfVv"
      },
      "execution_count": null,
      "outputs": []
    },
    {
      "cell_type": "code",
      "source": [
        "cstat(data[\"train_risk\"], data[\"train_status\"], data[\"train_time\"])"
      ],
      "metadata": {
        "colab": {
          "base_uri": "https://localhost:8080/"
        },
        "id": "3KGxY4EmtKIA",
        "outputId": "2ec6f155-11c3-48d7-a63b-84b1ddf3b7f6"
      },
      "execution_count": null,
      "outputs": [
        {
          "output_type": "execute_result",
          "data": {
            "text/plain": [
              "0.7507647088771979"
            ]
          },
          "metadata": {},
          "execution_count": 16
        }
      ]
    },
    {
      "cell_type": "code",
      "source": [
        "cstat(data[\"val_risk\"], data[\"val_status\"], data[\"val_time\"])"
      ],
      "metadata": {
        "colab": {
          "base_uri": "https://localhost:8080/"
        },
        "id": "l1xiO2CCtISz",
        "outputId": "638d3fbb-f098-4ad1-d7c6-03f51cbd6fd1"
      },
      "execution_count": null,
      "outputs": [
        {
          "output_type": "execute_result",
          "data": {
            "text/plain": [
              "0.8100961454298465"
            ]
          },
          "metadata": {},
          "execution_count": 17
        }
      ]
    },
    {
      "cell_type": "markdown",
      "source": [
        "## Callback\n",
        "\n",
        "* See [Examples of Keras callback applications](https://www.tensorflow.org/guide/keras/custom_callback#examples_of_keras_callback_applications)."
      ],
      "metadata": {
        "id": "VmSB1wN2tgMm"
      }
    },
    {
      "cell_type": "code",
      "source": [
        "class CstatCallback(tf.keras.callbacks.Callback):\n",
        "\n",
        "  def __init__(\n",
        "    self,\n",
        "    train_status: np.ndarray, \n",
        "    train_time: np.ndarray,\n",
        "    val_status: np.ndarray,\n",
        "    val_time: np.ndarray,\n",
        "    val_x: np.ndarray,\n",
        "    min_epochs=10,\n",
        "    patience=10,\n",
        "  ) -> None:\n",
        "    super(CstatCallback, self).__init__()\n",
        "    self.cstat = Cstat(train_status, train_time)\n",
        "    self.val_x = val_x\n",
        "    self.val_status = val_status\n",
        "    self.val_time = val_time\n",
        "  \n",
        "    self.min_epochs = min_epochs\n",
        "    self.patience = patience\n",
        "    self.best_weights = None\n",
        "    self.best_cstat = 0\n",
        "    self.wait = 0\n",
        "\n",
        "    self.history = {\"epoch\": [], \"cstat\": []}\n",
        "  \n",
        "  def on_epoch_end(self, epoch, logs=None):\n",
        "    if epoch >= self.min_epochs:\n",
        "\n",
        "      # Calculate C-statistic.\n",
        "      risk = self.model.predict(self.val_x)\n",
        "      risk = np.squeeze(np.array(risk))\n",
        "      result = self.cstat(risk, self.val_status, self.val_time)\n",
        "      print(f\"Epoch {epoch}, validation cstat: {result:.4f}\")\n",
        "      self.history[\"epoch\"].append(epoch)\n",
        "      self.history[\"cstat\"].append(result)\n",
        "\n",
        "      if result > self.wait:\n",
        "        self.best_cstat = result\n",
        "        self.best_weights = self.model.get_weights()\n",
        "        self.wait = 0\n",
        "      else:\n",
        "        self.wait += 1\n",
        "        if self.wait >= self.patience:\n",
        "          self.stopped_epoch = epoch\n",
        "          self.model.stop_training = True\n",
        "          print(\"Restoring model weights from the end of the best epoch.\")\n",
        "          self.model.set_weights(self.best_weights)\n",
        "    \n",
        "  def get_history(self) -> pd.DataFrame:\n",
        "    return pd.DataFrame(self.history)"
      ],
      "metadata": {
        "id": "yi38MO0jthLo"
      },
      "execution_count": null,
      "outputs": []
    },
    {
      "cell_type": "markdown",
      "source": [
        "# Proportional hazards loss"
      ],
      "metadata": {
        "id": "cZID5Jn5DH1l"
      }
    },
    {
      "cell_type": "code",
      "source": [
        "class CoxLoss(tf.keras.losses.Loss):\n",
        "\n",
        "  def __init__(self, **kwargs):\n",
        "    super().__init__(**kwargs) \n",
        "  \n",
        "  def call(\n",
        "      self,\n",
        "      y_true: Tuple[tf.Tensor],\n",
        "      y_pred: tf.Tensor\n",
        "  ) -> tf.Tensor:\n",
        "    \"\"\"Calculate Cox PH Loss.\n",
        "    \n",
        "    Args:\n",
        "      y_true: (status, time).\n",
        "      y_pred: risk.\n",
        "\n",
        "    \"\"\"\n",
        "    \n",
        "    # Note: autograph requires unpacking using indices.\n",
        "    status = tf.cast(y_true[:, 0], dtype=bool)\n",
        "\n",
        "    # Absent any events in the batch, there is no loss contribution.\n",
        "    if not tf.math.reduce_any(status):\n",
        "      return tf.constant(0.0, dtype=tf.float32)\n",
        "\n",
        "    time = tf.cast(y_true[:, 1], dtype=tf.float32)\n",
        "    y_pred = tf.cast(y_pred, tf.float32)\n",
        "    # assert status.shape == time.shape\n",
        "    \n",
        "    # Matrix where `at_risk[i, j] = True` if subject j is at risk\n",
        "    # at the event time for subject i. \n",
        "    at_risk = tf.map_fn(\n",
        "      lambda x: (time >= x), time, fn_output_signature=bool)\n",
        "    \n",
        "    risk_score = tf.squeeze(y_pred)\n",
        "    risk_score_mat = tf.math.multiply(\n",
        "        tf.ones((time.shape[0], time.shape[0]), dtype=tf.float32), risk_score)\n",
        "    \n",
        "    # Only at-risk subjects contribute to the denominator.\n",
        "    # Note: logsumexp is implemented manually because tf.reduce_logsumexp\n",
        "    # gives an error when used with graph execution.\n",
        "    max_score = tf.reduce_max(risk_score)\n",
        "    risk_score_mat = tf.subtract(risk_score_mat, max_score)\n",
        "    risk_sets = tf.ragged.boolean_mask(risk_score_mat, at_risk)\n",
        "    \n",
        "    set_exp = tf.math.exp(risk_sets)\n",
        "    set_sum = tf.reduce_sum(set_exp, axis=1)\n",
        "    denom = tf.add(tf.math.log(set_sum), max_score)\n",
        "\n",
        "    # The log-likelihood only increments at event times.\n",
        "    diff = tf.subtract(risk_score, denom)\n",
        "    return -1 * tf.reduce_mean(tf.ragged.boolean_mask(diff, status))\n"
      ],
      "metadata": {
        "id": "HyD6ZqDxXqji"
      },
      "execution_count": null,
      "outputs": []
    },
    {
      "cell_type": "markdown",
      "source": [
        "## Testing"
      ],
      "metadata": {
        "id": "Obg6A_Lwiu4Q"
      }
    },
    {
      "cell_type": "code",
      "source": [
        "def logsumexp(x: np.ndarray) -> np.ndarray:\n",
        "  delta = np.max(x)\n",
        "  y = x - delta\n",
        "  return delta + np.log(np.sum(np.exp(y)))"
      ],
      "metadata": {
        "id": "z7iWpxnvlfyn"
      },
      "execution_count": null,
      "outputs": []
    },
    {
      "cell_type": "code",
      "source": [
        "if False:\n",
        "  time = tf.constant(np.array([1, 2, 3]), dtype=tf.float32)\n",
        "  status = tf.constant(np.array([True, False, True]), dtype=bool)\n",
        "  risk_score = tf.constant(np.array([3, 2, 1]), dtype=tf.float32)\n",
        "  at_risk = tf.map_fn(lambda x: (time >= x), time, dtype=bool)\n",
        "\n",
        "  # Denominator calculation.\n",
        "  risk_score_mat = tf.math.multiply(\n",
        "      tf.ones_like(at_risk, dtype=risk_score.dtype), risk_score)\n",
        "  denom = tf.reduce_logsumexp(\n",
        "      tf.ragged.boolean_mask(risk_score_mat, at_risk), axis=1)\n",
        "\n",
        "  exp_denom = np.array([\n",
        "      logsumexp([3., 2., 1.]),\n",
        "      logsumexp([2., 1.]),\n",
        "      logsumexp([1.])\n",
        "  ])\n",
        "  assert np.allclose(denom.numpy(), exp_denom)\n",
        "\n",
        "  # Overall calculation.\n",
        "  y_true = (status, time)\n",
        "  y_pred = risk_score\n",
        "  loss_fn = CoxLoss()\n",
        "  obs = loss_fn(y_true, y_pred)\n",
        "  exp = -1 * np.sum(\n",
        "      status.numpy() * (risk_score.numpy() - exp_denom)) / np.sum(status.numpy())\n",
        "  assert np.allclose(obs, exp)"
      ],
      "metadata": {
        "id": "GQ8C8Eh4sQ1u"
      },
      "execution_count": null,
      "outputs": []
    },
    {
      "cell_type": "markdown",
      "source": [
        "# Modeling"
      ],
      "metadata": {
        "id": "Z1LMP4cm-H2n"
      }
    },
    {
      "cell_type": "markdown",
      "source": [
        "## Model architecture"
      ],
      "metadata": {
        "id": "ZyGO8Ily-Nve"
      }
    },
    {
      "cell_type": "code",
      "source": [
        "def linear_model() -> tf.keras.Model:\n",
        "  input = tf.keras.layers.Input(shape=(N_COVAR,), name=\"input\", dtype=tf.float32)\n",
        "  output = tf.keras.layers.Dense(1, name=\"output\")(input)\n",
        "  model = tf.keras.Model(input, output, name=\"model\")\n",
        "  return model"
      ],
      "metadata": {
        "id": "7KFYSWDHoL9j"
      },
      "execution_count": null,
      "outputs": []
    },
    {
      "cell_type": "code",
      "source": [
        "def dropout_model() -> tf.keras.Model:\n",
        "  input = tf.keras.layers.Input(shape=(N_COVAR,), name=\"input\")\n",
        "  h = tf.keras.layers.Dense(\n",
        "    32,\n",
        "    activation=\"relu\",\n",
        "    kernel_regularizer=tf.keras.regularizers.L2(),\n",
        "    name=\"dense1\"\n",
        "  )(input)\n",
        "  h = tf.keras.layers.Dropout(0.50, name=\"drop\")(h)\n",
        "  h = tf.keras.layers.Dense(\n",
        "    32,\n",
        "    activation=\"relu\",\n",
        "    kernel_regularizer=tf.keras.regularizers.L2(),\n",
        "    name=\"dense2\"\n",
        "  )(h)\n",
        "  output = tf.keras.layers.Dense(1, name=\"output\")(h)\n",
        "  model = tf.keras.Model(input, output, name=\"model\")\n",
        "  return model"
      ],
      "metadata": {
        "id": "szLhusBhz1gH"
      },
      "execution_count": null,
      "outputs": []
    },
    {
      "cell_type": "markdown",
      "source": [
        "## Data sets"
      ],
      "metadata": {
        "id": "AFcoK7inj6qe"
      }
    },
    {
      "cell_type": "code",
      "source": [
        "data_fn = PrepData(n=128 * 10)"
      ],
      "metadata": {
        "id": "dtG8B39gcV5n"
      },
      "execution_count": null,
      "outputs": []
    },
    {
      "cell_type": "markdown",
      "source": [
        "## Built-in training"
      ],
      "metadata": {
        "id": "FUg6Zmqxzpca"
      }
    },
    {
      "cell_type": "markdown",
      "source": [
        "### From tensors"
      ],
      "metadata": {
        "id": "ojpsSVEH5YFi"
      }
    },
    {
      "cell_type": "code",
      "source": [
        "# Model.\n",
        "model = linear_model()"
      ],
      "metadata": {
        "id": "duPYjEi0rxxF"
      },
      "execution_count": null,
      "outputs": []
    },
    {
      "cell_type": "code",
      "source": [
        "data = data_fn.get_split_data()\n",
        "train_x = tf.constant(data[\"train_x\"], dtype=tf.float32)\n",
        "train_y = tf.constant(data[\"train_y\"], dtype=tf.float32)"
      ],
      "metadata": {
        "id": "-IkRxa2epVyd"
      },
      "execution_count": null,
      "outputs": []
    },
    {
      "cell_type": "code",
      "source": [
        "cstat_callback = CstatCallback(\n",
        "  train_status = data[\"train_status\"],\n",
        "  train_time = data[\"train_time\"],\n",
        "  val_status = data[\"val_status\"],\n",
        "  val_time = data[\"val_time\"],\n",
        "  val_x = data[\"val_x\"],\n",
        ")"
      ],
      "metadata": {
        "id": "B_4qJ41CwwoQ"
      },
      "execution_count": null,
      "outputs": []
    },
    {
      "cell_type": "code",
      "source": [
        "model.compile(\n",
        "  optimizer=tf.keras.optimizers.Adam(),\n",
        "  loss=CoxLoss(),\n",
        ")"
      ],
      "metadata": {
        "id": "ISkkdGmY0oJx"
      },
      "execution_count": null,
      "outputs": []
    },
    {
      "cell_type": "code",
      "source": [
        "history = model.fit(\n",
        "  x=train_x,\n",
        "  y=train_y,\n",
        "  epochs=20,\n",
        "  callbacks=[cstat_callback],\n",
        "  verbose=0\n",
        ")"
      ],
      "metadata": {
        "colab": {
          "base_uri": "https://localhost:8080/"
        },
        "id": "G0HNR-Eg0wc3",
        "outputId": "29286168-6fb5-4c1c-90df-35d8e0d6f6e4"
      },
      "execution_count": null,
      "outputs": [
        {
          "output_type": "stream",
          "name": "stdout",
          "text": [
            "Epoch 10, validation cstat: 0.6154\n",
            "Epoch 11, validation cstat: 0.6243\n",
            "Epoch 12, validation cstat: 0.6317\n",
            "Epoch 13, validation cstat: 0.6377\n",
            "Epoch 14, validation cstat: 0.6433\n",
            "Epoch 15, validation cstat: 0.6483\n",
            "Epoch 16, validation cstat: 0.6538\n",
            "Epoch 17, validation cstat: 0.6597\n",
            "Epoch 18, validation cstat: 0.6634\n",
            "Epoch 19, validation cstat: 0.6674\n"
          ]
        }
      ]
    },
    {
      "cell_type": "code",
      "source": [
        "cstat_history = cstat_callback.get_history()\n",
        "cstat_history.head()"
      ],
      "metadata": {
        "colab": {
          "base_uri": "https://localhost:8080/",
          "height": 206
        },
        "id": "uK2wgJNs8wcw",
        "outputId": "12828faf-8c24-4f75-fcea-6ca16e507c05"
      },
      "execution_count": null,
      "outputs": [
        {
          "output_type": "execute_result",
          "data": {
            "text/plain": [
              "   epoch     cstat\n",
              "0     10  0.615362\n",
              "1     11  0.624278\n",
              "2     12  0.631735\n",
              "3     13  0.637717\n",
              "4     14  0.643315"
            ],
            "text/html": [
              "\n",
              "  <div id=\"df-a57fd06a-0bd2-43d1-8c81-07e9023cdf8c\">\n",
              "    <div class=\"colab-df-container\">\n",
              "      <div>\n",
              "<style scoped>\n",
              "    .dataframe tbody tr th:only-of-type {\n",
              "        vertical-align: middle;\n",
              "    }\n",
              "\n",
              "    .dataframe tbody tr th {\n",
              "        vertical-align: top;\n",
              "    }\n",
              "\n",
              "    .dataframe thead th {\n",
              "        text-align: right;\n",
              "    }\n",
              "</style>\n",
              "<table border=\"1\" class=\"dataframe\">\n",
              "  <thead>\n",
              "    <tr style=\"text-align: right;\">\n",
              "      <th></th>\n",
              "      <th>epoch</th>\n",
              "      <th>cstat</th>\n",
              "    </tr>\n",
              "  </thead>\n",
              "  <tbody>\n",
              "    <tr>\n",
              "      <th>0</th>\n",
              "      <td>10</td>\n",
              "      <td>0.615362</td>\n",
              "    </tr>\n",
              "    <tr>\n",
              "      <th>1</th>\n",
              "      <td>11</td>\n",
              "      <td>0.624278</td>\n",
              "    </tr>\n",
              "    <tr>\n",
              "      <th>2</th>\n",
              "      <td>12</td>\n",
              "      <td>0.631735</td>\n",
              "    </tr>\n",
              "    <tr>\n",
              "      <th>3</th>\n",
              "      <td>13</td>\n",
              "      <td>0.637717</td>\n",
              "    </tr>\n",
              "    <tr>\n",
              "      <th>4</th>\n",
              "      <td>14</td>\n",
              "      <td>0.643315</td>\n",
              "    </tr>\n",
              "  </tbody>\n",
              "</table>\n",
              "</div>\n",
              "      <button class=\"colab-df-convert\" onclick=\"convertToInteractive('df-a57fd06a-0bd2-43d1-8c81-07e9023cdf8c')\"\n",
              "              title=\"Convert this dataframe to an interactive table.\"\n",
              "              style=\"display:none;\">\n",
              "        \n",
              "  <svg xmlns=\"http://www.w3.org/2000/svg\" height=\"24px\"viewBox=\"0 0 24 24\"\n",
              "       width=\"24px\">\n",
              "    <path d=\"M0 0h24v24H0V0z\" fill=\"none\"/>\n",
              "    <path d=\"M18.56 5.44l.94 2.06.94-2.06 2.06-.94-2.06-.94-.94-2.06-.94 2.06-2.06.94zm-11 1L8.5 8.5l.94-2.06 2.06-.94-2.06-.94L8.5 2.5l-.94 2.06-2.06.94zm10 10l.94 2.06.94-2.06 2.06-.94-2.06-.94-.94-2.06-.94 2.06-2.06.94z\"/><path d=\"M17.41 7.96l-1.37-1.37c-.4-.4-.92-.59-1.43-.59-.52 0-1.04.2-1.43.59L10.3 9.45l-7.72 7.72c-.78.78-.78 2.05 0 2.83L4 21.41c.39.39.9.59 1.41.59.51 0 1.02-.2 1.41-.59l7.78-7.78 2.81-2.81c.8-.78.8-2.07 0-2.86zM5.41 20L4 18.59l7.72-7.72 1.47 1.35L5.41 20z\"/>\n",
              "  </svg>\n",
              "      </button>\n",
              "      \n",
              "  <style>\n",
              "    .colab-df-container {\n",
              "      display:flex;\n",
              "      flex-wrap:wrap;\n",
              "      gap: 12px;\n",
              "    }\n",
              "\n",
              "    .colab-df-convert {\n",
              "      background-color: #E8F0FE;\n",
              "      border: none;\n",
              "      border-radius: 50%;\n",
              "      cursor: pointer;\n",
              "      display: none;\n",
              "      fill: #1967D2;\n",
              "      height: 32px;\n",
              "      padding: 0 0 0 0;\n",
              "      width: 32px;\n",
              "    }\n",
              "\n",
              "    .colab-df-convert:hover {\n",
              "      background-color: #E2EBFA;\n",
              "      box-shadow: 0px 1px 2px rgba(60, 64, 67, 0.3), 0px 1px 3px 1px rgba(60, 64, 67, 0.15);\n",
              "      fill: #174EA6;\n",
              "    }\n",
              "\n",
              "    [theme=dark] .colab-df-convert {\n",
              "      background-color: #3B4455;\n",
              "      fill: #D2E3FC;\n",
              "    }\n",
              "\n",
              "    [theme=dark] .colab-df-convert:hover {\n",
              "      background-color: #434B5C;\n",
              "      box-shadow: 0px 1px 3px 1px rgba(0, 0, 0, 0.15);\n",
              "      filter: drop-shadow(0px 1px 2px rgba(0, 0, 0, 0.3));\n",
              "      fill: #FFFFFF;\n",
              "    }\n",
              "  </style>\n",
              "\n",
              "      <script>\n",
              "        const buttonEl =\n",
              "          document.querySelector('#df-a57fd06a-0bd2-43d1-8c81-07e9023cdf8c button.colab-df-convert');\n",
              "        buttonEl.style.display =\n",
              "          google.colab.kernel.accessAllowed ? 'block' : 'none';\n",
              "\n",
              "        async function convertToInteractive(key) {\n",
              "          const element = document.querySelector('#df-a57fd06a-0bd2-43d1-8c81-07e9023cdf8c');\n",
              "          const dataTable =\n",
              "            await google.colab.kernel.invokeFunction('convertToInteractive',\n",
              "                                                     [key], {});\n",
              "          if (!dataTable) return;\n",
              "\n",
              "          const docLinkHtml = 'Like what you see? Visit the ' +\n",
              "            '<a target=\"_blank\" href=https://colab.research.google.com/notebooks/data_table.ipynb>data table notebook</a>'\n",
              "            + ' to learn more about interactive tables.';\n",
              "          element.innerHTML = '';\n",
              "          dataTable['output_type'] = 'display_data';\n",
              "          await google.colab.output.renderOutput(dataTable, element);\n",
              "          const docLink = document.createElement('div');\n",
              "          docLink.innerHTML = docLinkHtml;\n",
              "          element.appendChild(docLink);\n",
              "        }\n",
              "      </script>\n",
              "    </div>\n",
              "  </div>\n",
              "  "
            ]
          },
          "metadata": {},
          "execution_count": 30
        }
      ]
    },
    {
      "cell_type": "markdown",
      "source": [
        "### From datasets"
      ],
      "metadata": {
        "id": "6WDmZH2C5j2z"
      }
    },
    {
      "cell_type": "code",
      "source": [
        "# Training and validation datasets.\n",
        "ds = prep_datasets(data_fn.get_split_data())"
      ],
      "metadata": {
        "id": "caqWAvhbDlaT"
      },
      "execution_count": null,
      "outputs": []
    },
    {
      "cell_type": "code",
      "source": [
        "# Training and validation datasets.\n",
        "history = model.fit(\n",
        "  x=ds[\"train\"],\n",
        "  epochs=2,\n",
        "  validation_data=ds[\"val\"]\n",
        ")"
      ],
      "metadata": {
        "colab": {
          "base_uri": "https://localhost:8080/"
        },
        "id": "0pp1505xKXZR",
        "outputId": "53955896-aaa8-4a41-d62f-901b8ad0fd32"
      },
      "execution_count": null,
      "outputs": [
        {
          "output_type": "stream",
          "name": "stdout",
          "text": [
            "Epoch 1/2\n",
            "6/6 [==============================] - 1s 157ms/step - loss: 3.6709 - val_loss: 3.7550\n",
            "Epoch 2/2\n",
            "6/6 [==============================] - 0s 16ms/step - loss: 3.6686 - val_loss: 3.7533\n"
          ]
        }
      ]
    },
    {
      "cell_type": "code",
      "source": [
        "# Evaluate model.\n",
        "model.evaluate(ds[\"test\"])"
      ],
      "metadata": {
        "colab": {
          "base_uri": "https://localhost:8080/"
        },
        "id": "XK6dnmiXKqB-",
        "outputId": "ca261701-14ea-4adc-b47b-2601c8800758"
      },
      "execution_count": null,
      "outputs": [
        {
          "output_type": "stream",
          "name": "stdout",
          "text": [
            "2/2 [==============================] - 0s 29ms/step - loss: 3.7989\n"
          ]
        },
        {
          "output_type": "execute_result",
          "data": {
            "text/plain": [
              "3.798910140991211"
            ]
          },
          "metadata": {},
          "execution_count": 33
        }
      ]
    },
    {
      "cell_type": "code",
      "source": [],
      "metadata": {
        "id": "6PQ-6GpALAQE"
      },
      "execution_count": null,
      "outputs": []
    }
  ]
}