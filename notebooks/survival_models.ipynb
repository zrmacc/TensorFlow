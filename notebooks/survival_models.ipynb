{
  "nbformat": 4,
  "nbformat_minor": 0,
  "metadata": {
    "colab": {
      "provenance": [],
      "collapsed_sections": [],
      "toc_visible": true
    },
    "kernelspec": {
      "name": "python3",
      "display_name": "Python 3"
    },
    "language_info": {
      "name": "python"
    }
  },
  "cells": [
    {
      "cell_type": "code",
      "execution_count": 1,
      "metadata": {
        "id": "hIBg7AfF6Mnx"
      },
      "outputs": [],
      "source": [
        "from typing import Any, Dict, Iterable, Tuple\n",
        "\n",
        "import matplotlib.pyplot as plt\n",
        "import numpy as np\n",
        "import pandas as pd\n",
        "import seaborn as sns\n",
        "import tensorflow as tf"
      ]
    },
    {
      "cell_type": "markdown",
      "source": [
        "Reference notebook: [Survival Analysis for Deep Learning](https://colab.research.google.com/github/sebp/survival-cnn-estimator/blob/master/tutorial_tf2.ipynb)."
      ],
      "metadata": {
        "id": "moeerMtYDKtB"
      }
    },
    {
      "cell_type": "markdown",
      "source": [
        "# Generate data"
      ],
      "metadata": {
        "id": "WuL4E2KA6XSs"
      }
    },
    {
      "cell_type": "code",
      "source": [
        "N_COVAR = 128"
      ],
      "metadata": {
        "id": "TGTspMD3dys9"
      },
      "execution_count": 2,
      "outputs": []
    },
    {
      "cell_type": "code",
      "source": [
        "def gen_data(\n",
        "  n: int,\n",
        "  base_rate=0.50,\n",
        "  cens_prop=0.20,\n",
        "  n_covar=N_COVAR,\n",
        ") -> Dict[str, np.ndarray]:\n",
        "  \"\"\"Generate data.\n",
        "  \n",
        "  Args:\n",
        "    n: Sample size.\n",
        "    base_rate: Base event rate.\n",
        "    cens_prop: Expected censoring proportion.\n",
        "    n_covar: Number of covariates.\n",
        "    n_freq: Number of frequencies.\n",
        "  \n",
        "  \"\"\"\n",
        "\n",
        "  # Covariates.\n",
        "  x = np.random.rand(n, n_covar)\n",
        "  \n",
        "  # Linear predictor.\n",
        "  coef = np.random.randn(n_covar)\n",
        "  eta = np.dot(x, coef)\n",
        "  eta = (eta - np.mean(eta)) / np.std(eta)\n",
        "\n",
        "  # Time-to-event.\n",
        "  event_rate = base_rate * np.exp(eta)\n",
        "  event_time = np.random.exponential(scale=1/event_rate, size=len(event_rate))\n",
        "\n",
        "  cens_rate = cens_prop / (1 - cens_prop) * event_rate \n",
        "  cens_time = np.random.exponential(scale=1/cens_rate, size=len(cens_rate))\n",
        "\n",
        "  status = (event_time <= cens_time)\n",
        "  time = np.where(status, event_time, cens_time)\n",
        "\n",
        "  # Output.\n",
        "  return {\n",
        "    \"x\": x,\n",
        "    \"risk\": event_rate,\n",
        "    \"status\": status,\n",
        "    \"time\": time,\n",
        "  }"
      ],
      "metadata": {
        "id": "0nGaPZhy6RHQ"
      },
      "execution_count": 3,
      "outputs": []
    },
    {
      "cell_type": "code",
      "source": [
        "def split_data(\n",
        "  data: Dict[str, np.ndarray],\n",
        "  train_prop: float = 0.8,\n",
        ") -> Dict[str, np.ndarray]:\n",
        "\n",
        "  n = len(data[\"time\"])\n",
        "  n_train = int(train_prop * n)\n",
        "\n",
        "  out = {}\n",
        "  for key in data.keys():\n",
        "    out[f\"train_{key}\"] = data[key][:n_train]\n",
        "    out[f\"val_{key}\"] = data[key][n_train:]\n",
        "  \n",
        "  return out"
      ],
      "metadata": {
        "id": "WiBMyLRfA9Hw"
      },
      "execution_count": 4,
      "outputs": []
    },
    {
      "cell_type": "markdown",
      "source": [
        "# Kaplan-Meier"
      ],
      "metadata": {
        "id": "6zIn6NnUz8-_"
      }
    },
    {
      "cell_type": "markdown",
      "source": [
        "## Build masks"
      ],
      "metadata": {
        "id": "TJDJSJRB3xHw"
      }
    },
    {
      "cell_type": "code",
      "source": [
        "def build_masks(status: np.ndarray, time: np.ndarray) -> Tuple[np.ndarray]:\n",
        "  \"\"\"Build masks.\n",
        "\n",
        "  Create unique-time (row) by subject (col) boolean masks.\n",
        "\n",
        "  Returns:\n",
        "    at_risk: [t, i] = True if subject i is at risk at time t.\n",
        "    cens: [t, i] = True if subject is is censored at time t.\n",
        "    event: [t, i] = True if subject i has an event at time t.\n",
        "    unique_times: Unique times corresponding to the rows.\n",
        "\n",
        "  \"\"\"\n",
        "  n_subj = len(time)\n",
        "\n",
        "  # Add 0 if not present.\n",
        "  unique_times = np.sort(np.unique(time))\n",
        "  if not (0 in unique_times):\n",
        "    unique_times = np.insert(unique_times, 0, 0)\n",
        "  n_unique_time = len(unique_times)\n",
        "\n",
        "  # Masks.\n",
        "  at_risk = np.zeros(shape=(n_unique_time, n_subj), dtype=bool)\n",
        "  cens = np.zeros(shape=(n_unique_time, n_subj), dtype=bool)\n",
        "  event = np.zeros(shape=(n_unique_time, n_subj), dtype=bool)\n",
        "\n",
        "  for i in range(n_subj):\n",
        "    at_risk[:, i] = (time[i] >= unique_times)\n",
        "    which_time = (unique_times == time[i])\n",
        "    cens[:, i] = (not status[i]) * which_time\n",
        "    event[:, i] = status[i] * which_time\n",
        "\n",
        "  return at_risk, cens, event, unique_times"
      ],
      "metadata": {
        "id": "16IWJQfX0zBM"
      },
      "execution_count": 5,
      "outputs": []
    },
    {
      "cell_type": "code",
      "source": [
        "n = 5\n",
        "status = np.array(np.round(np.random.rand(n)), dtype=bool)\n",
        "time = np.arange(n, dtype=float)"
      ],
      "metadata": {
        "id": "lir0LH0b1QL9"
      },
      "execution_count": 6,
      "outputs": []
    },
    {
      "cell_type": "code",
      "source": [
        "print(\"Status:\")\n",
        "print(status)\n",
        "print(\"\\n\")\n",
        "print(\"Time:\")\n",
        "print(time)"
      ],
      "metadata": {
        "colab": {
          "base_uri": "https://localhost:8080/"
        },
        "id": "orADikygX2Pm",
        "outputId": "e7243c83-81af-40b0-b723-b70384a7990b"
      },
      "execution_count": 7,
      "outputs": [
        {
          "output_type": "stream",
          "name": "stdout",
          "text": [
            "Status:\n",
            "[ True  True  True False  True]\n",
            "\n",
            "\n",
            "Time:\n",
            "[0. 1. 2. 3. 4.]\n"
          ]
        }
      ]
    },
    {
      "cell_type": "code",
      "source": [
        "at_risk, cens, event, unique_times = build_masks(status, time)"
      ],
      "metadata": {
        "id": "QaEygEatW8hV"
      },
      "execution_count": 8,
      "outputs": []
    },
    {
      "cell_type": "code",
      "source": [
        "print(\"At risk:\")\n",
        "print(at_risk)"
      ],
      "metadata": {
        "colab": {
          "base_uri": "https://localhost:8080/"
        },
        "id": "elK650DUXprE",
        "outputId": "9929f8b3-8596-46ec-b31e-289952fff803"
      },
      "execution_count": 9,
      "outputs": [
        {
          "output_type": "stream",
          "name": "stdout",
          "text": [
            "At risk:\n",
            "[[ True  True  True  True  True]\n",
            " [False  True  True  True  True]\n",
            " [False False  True  True  True]\n",
            " [False False False  True  True]\n",
            " [False False False False  True]]\n"
          ]
        }
      ]
    },
    {
      "cell_type": "code",
      "source": [
        "print(\"Censored:\")\n",
        "print(cens)"
      ],
      "metadata": {
        "colab": {
          "base_uri": "https://localhost:8080/"
        },
        "id": "QP-ed6w_YBxO",
        "outputId": "2145c259-d3c9-4dc0-dc22-baa28c79abd7"
      },
      "execution_count": 10,
      "outputs": [
        {
          "output_type": "stream",
          "name": "stdout",
          "text": [
            "Censored:\n",
            "[[False False False False False]\n",
            " [False False False False False]\n",
            " [False False False False False]\n",
            " [False False False  True False]\n",
            " [False False False False False]]\n"
          ]
        }
      ]
    },
    {
      "cell_type": "code",
      "source": [
        "print(\"Event:\")\n",
        "print(event)"
      ],
      "metadata": {
        "colab": {
          "base_uri": "https://localhost:8080/"
        },
        "id": "MJ13ZeW7ZTpp",
        "outputId": "1e55a8b6-96e8-48db-a556-1df163596424"
      },
      "execution_count": 11,
      "outputs": [
        {
          "output_type": "stream",
          "name": "stdout",
          "text": [
            "Event:\n",
            "[[ True False False False False]\n",
            " [False  True False False False]\n",
            " [False False  True False False]\n",
            " [False False False False False]\n",
            " [False False False False  True]]\n"
          ]
        }
      ]
    },
    {
      "cell_type": "markdown",
      "source": [
        "## Tabulate KM"
      ],
      "metadata": {
        "id": "CQv-_vxR5iEm"
      }
    },
    {
      "cell_type": "code",
      "source": [
        "def tab_km(status: np.ndarray, time: np.ndarray) -> pd.DataFrame:\n",
        "  \"\"\"Taublate Kaplan-Meier.\"\"\"\n",
        "  at_risk, cens, event, unique_times = build_masks(status, time)\n",
        "\n",
        "  out = pd.DataFrame({\n",
        "    \"time\": unique_times,\n",
        "    \"n_at_risk\": np.sum(at_risk, axis=1),\n",
        "    \"n_event\": np.sum(event, axis=1),\n",
        "    \"n_cens\": np.sum(cens, axis=1),\n",
        "  })\n",
        "  out[\"haz\"] = out.n_event / out.n_at_risk\n",
        "  out[\"surv\"] = np.cumprod(1 - out.haz)\n",
        "  return out  "
      ],
      "metadata": {
        "id": "3MvKcTRA5j7Y"
      },
      "execution_count": 12,
      "outputs": []
    },
    {
      "cell_type": "markdown",
      "source": [
        "## Estimator"
      ],
      "metadata": {
        "id": "Uc88st1q3zKf"
      }
    },
    {
      "cell_type": "code",
      "source": [
        "class KaplanMeier:\n",
        "\n",
        "  def __init__(self, status: np.ndarray, time: np.ndarray) -> None:\n",
        "    self.status = status\n",
        "    self.time = time\n",
        "    self.km = tab_km(self.status, self.time)\n",
        "  \n",
        "  def return_table(self) -> pd.DataFrame:\n",
        "    return self.km\n",
        "    \n",
        "  def __call__(self, x: float) -> float:\n",
        "    km = self.km\n",
        "    return km.surv[np.max(np.where(km.time <= x))]"
      ],
      "metadata": {
        "id": "bp-kQa8Qz_Q1"
      },
      "execution_count": 13,
      "outputs": []
    },
    {
      "cell_type": "code",
      "source": [
        "# Fit Kaplan-Meier.\n",
        "km = KaplanMeier(\n",
        "  status = np.array([True, False, True, False]),\n",
        "  time = np.arange(1, 5)\n",
        ")\n",
        "km.return_table()"
      ],
      "metadata": {
        "colab": {
          "base_uri": "https://localhost:8080/",
          "height": 206
        },
        "id": "orUVzFo7_eQM",
        "outputId": "49518286-8680-4aea-bd9f-12928436df2d"
      },
      "execution_count": 14,
      "outputs": [
        {
          "output_type": "execute_result",
          "data": {
            "text/plain": [
              "   time  n_at_risk  n_event  n_cens   haz   surv\n",
              "0     0          4        0       0  0.00  1.000\n",
              "1     1          4        1       0  0.25  0.750\n",
              "2     2          3        0       1  0.00  0.750\n",
              "3     3          2        1       0  0.50  0.375\n",
              "4     4          1        0       1  0.00  0.375"
            ],
            "text/html": [
              "\n",
              "  <div id=\"df-4e46c1d2-b540-4384-9540-8f1b2b081926\">\n",
              "    <div class=\"colab-df-container\">\n",
              "      <div>\n",
              "<style scoped>\n",
              "    .dataframe tbody tr th:only-of-type {\n",
              "        vertical-align: middle;\n",
              "    }\n",
              "\n",
              "    .dataframe tbody tr th {\n",
              "        vertical-align: top;\n",
              "    }\n",
              "\n",
              "    .dataframe thead th {\n",
              "        text-align: right;\n",
              "    }\n",
              "</style>\n",
              "<table border=\"1\" class=\"dataframe\">\n",
              "  <thead>\n",
              "    <tr style=\"text-align: right;\">\n",
              "      <th></th>\n",
              "      <th>time</th>\n",
              "      <th>n_at_risk</th>\n",
              "      <th>n_event</th>\n",
              "      <th>n_cens</th>\n",
              "      <th>haz</th>\n",
              "      <th>surv</th>\n",
              "    </tr>\n",
              "  </thead>\n",
              "  <tbody>\n",
              "    <tr>\n",
              "      <th>0</th>\n",
              "      <td>0</td>\n",
              "      <td>4</td>\n",
              "      <td>0</td>\n",
              "      <td>0</td>\n",
              "      <td>0.00</td>\n",
              "      <td>1.000</td>\n",
              "    </tr>\n",
              "    <tr>\n",
              "      <th>1</th>\n",
              "      <td>1</td>\n",
              "      <td>4</td>\n",
              "      <td>1</td>\n",
              "      <td>0</td>\n",
              "      <td>0.25</td>\n",
              "      <td>0.750</td>\n",
              "    </tr>\n",
              "    <tr>\n",
              "      <th>2</th>\n",
              "      <td>2</td>\n",
              "      <td>3</td>\n",
              "      <td>0</td>\n",
              "      <td>1</td>\n",
              "      <td>0.00</td>\n",
              "      <td>0.750</td>\n",
              "    </tr>\n",
              "    <tr>\n",
              "      <th>3</th>\n",
              "      <td>3</td>\n",
              "      <td>2</td>\n",
              "      <td>1</td>\n",
              "      <td>0</td>\n",
              "      <td>0.50</td>\n",
              "      <td>0.375</td>\n",
              "    </tr>\n",
              "    <tr>\n",
              "      <th>4</th>\n",
              "      <td>4</td>\n",
              "      <td>1</td>\n",
              "      <td>0</td>\n",
              "      <td>1</td>\n",
              "      <td>0.00</td>\n",
              "      <td>0.375</td>\n",
              "    </tr>\n",
              "  </tbody>\n",
              "</table>\n",
              "</div>\n",
              "      <button class=\"colab-df-convert\" onclick=\"convertToInteractive('df-4e46c1d2-b540-4384-9540-8f1b2b081926')\"\n",
              "              title=\"Convert this dataframe to an interactive table.\"\n",
              "              style=\"display:none;\">\n",
              "        \n",
              "  <svg xmlns=\"http://www.w3.org/2000/svg\" height=\"24px\"viewBox=\"0 0 24 24\"\n",
              "       width=\"24px\">\n",
              "    <path d=\"M0 0h24v24H0V0z\" fill=\"none\"/>\n",
              "    <path d=\"M18.56 5.44l.94 2.06.94-2.06 2.06-.94-2.06-.94-.94-2.06-.94 2.06-2.06.94zm-11 1L8.5 8.5l.94-2.06 2.06-.94-2.06-.94L8.5 2.5l-.94 2.06-2.06.94zm10 10l.94 2.06.94-2.06 2.06-.94-2.06-.94-.94-2.06-.94 2.06-2.06.94z\"/><path d=\"M17.41 7.96l-1.37-1.37c-.4-.4-.92-.59-1.43-.59-.52 0-1.04.2-1.43.59L10.3 9.45l-7.72 7.72c-.78.78-.78 2.05 0 2.83L4 21.41c.39.39.9.59 1.41.59.51 0 1.02-.2 1.41-.59l7.78-7.78 2.81-2.81c.8-.78.8-2.07 0-2.86zM5.41 20L4 18.59l7.72-7.72 1.47 1.35L5.41 20z\"/>\n",
              "  </svg>\n",
              "      </button>\n",
              "      \n",
              "  <style>\n",
              "    .colab-df-container {\n",
              "      display:flex;\n",
              "      flex-wrap:wrap;\n",
              "      gap: 12px;\n",
              "    }\n",
              "\n",
              "    .colab-df-convert {\n",
              "      background-color: #E8F0FE;\n",
              "      border: none;\n",
              "      border-radius: 50%;\n",
              "      cursor: pointer;\n",
              "      display: none;\n",
              "      fill: #1967D2;\n",
              "      height: 32px;\n",
              "      padding: 0 0 0 0;\n",
              "      width: 32px;\n",
              "    }\n",
              "\n",
              "    .colab-df-convert:hover {\n",
              "      background-color: #E2EBFA;\n",
              "      box-shadow: 0px 1px 2px rgba(60, 64, 67, 0.3), 0px 1px 3px 1px rgba(60, 64, 67, 0.15);\n",
              "      fill: #174EA6;\n",
              "    }\n",
              "\n",
              "    [theme=dark] .colab-df-convert {\n",
              "      background-color: #3B4455;\n",
              "      fill: #D2E3FC;\n",
              "    }\n",
              "\n",
              "    [theme=dark] .colab-df-convert:hover {\n",
              "      background-color: #434B5C;\n",
              "      box-shadow: 0px 1px 3px 1px rgba(0, 0, 0, 0.15);\n",
              "      filter: drop-shadow(0px 1px 2px rgba(0, 0, 0, 0.3));\n",
              "      fill: #FFFFFF;\n",
              "    }\n",
              "  </style>\n",
              "\n",
              "      <script>\n",
              "        const buttonEl =\n",
              "          document.querySelector('#df-4e46c1d2-b540-4384-9540-8f1b2b081926 button.colab-df-convert');\n",
              "        buttonEl.style.display =\n",
              "          google.colab.kernel.accessAllowed ? 'block' : 'none';\n",
              "\n",
              "        async function convertToInteractive(key) {\n",
              "          const element = document.querySelector('#df-4e46c1d2-b540-4384-9540-8f1b2b081926');\n",
              "          const dataTable =\n",
              "            await google.colab.kernel.invokeFunction('convertToInteractive',\n",
              "                                                     [key], {});\n",
              "          if (!dataTable) return;\n",
              "\n",
              "          const docLinkHtml = 'Like what you see? Visit the ' +\n",
              "            '<a target=\"_blank\" href=https://colab.research.google.com/notebooks/data_table.ipynb>data table notebook</a>'\n",
              "            + ' to learn more about interactive tables.';\n",
              "          element.innerHTML = '';\n",
              "          dataTable['output_type'] = 'display_data';\n",
              "          await google.colab.output.renderOutput(dataTable, element);\n",
              "          const docLink = document.createElement('div');\n",
              "          docLink.innerHTML = docLinkHtml;\n",
              "          element.appendChild(docLink);\n",
              "        }\n",
              "      </script>\n",
              "    </div>\n",
              "  </div>\n",
              "  "
            ]
          },
          "metadata": {},
          "execution_count": 14
        }
      ]
    },
    {
      "cell_type": "code",
      "source": [
        "# Evaluate Kaplan-Meier.\n",
        "km(1.1)"
      ],
      "metadata": {
        "colab": {
          "base_uri": "https://localhost:8080/"
        },
        "id": "jwIEwT3I_lt4",
        "outputId": "65b341c1-675a-49ff-a5bc-4c6379407e42"
      },
      "execution_count": 15,
      "outputs": [
        {
          "output_type": "execute_result",
          "data": {
            "text/plain": [
              "0.75"
            ]
          },
          "metadata": {},
          "execution_count": 15
        }
      ]
    },
    {
      "cell_type": "markdown",
      "source": [
        "# C-statistic\n",
        "\n",
        "* Reference: [On the C-statistics for Evaluating Overall Adequacy of Risk Prediction Procedures with Censored Survival Data](https://www.ncbi.nlm.nih.gov/pmc/articles/PMC3079915/)."
      ],
      "metadata": {
        "id": "yKf4ZGBFBlFY"
      }
    },
    {
      "cell_type": "code",
      "source": [
        "class Concord:\n",
        "  \"\"\"Calculate concordance.\n",
        "  \n",
        "  Note that the Kaplan-Meier curve of the censoring distribution may be fit\n",
        "  using different data from that used to calculate the C-statistic.\n",
        "  \n",
        "  \"\"\"\n",
        "\n",
        "  def __init__(self, status: np.ndarray, time: np.ndarray) -> None:\n",
        "    self.km = KaplanMeier(~status, time)\n",
        "  \n",
        "  def __call__(\n",
        "    self,\n",
        "    risk: np.ndarray,\n",
        "    status: np.ndarray,\n",
        "    time: np.ndarray,\n",
        "    tau=None\n",
        "  ) -> float:\n",
        "\n",
        "    n = len(risk)\n",
        "    upper = 0\n",
        "    lower = 0\n",
        "\n",
        "    if not tau:\n",
        "      tau = np.max(time)\n",
        "\n",
        "    for i in range(n):\n",
        "      di, ti, ri = status[i], time[i], risk[i]\n",
        "\n",
        "      # Only cases contribute.\n",
        "      if not di:\n",
        "        continue\n",
        "\n",
        "      for j in range(n):\n",
        "        tj, rj = time[j], risk[j]\n",
        "        denom = di * (ti < tj) * (ti < tau)\n",
        "\n",
        "        # Only calculate censoring weights if denom is non-zero.\n",
        "        if denom:\n",
        "          p_cens = np.squeeze(self.km(ti))\n",
        "          weight = 1 / (p_cens ** 2)\n",
        "          upper += denom * weight * (ri > rj)\n",
        "          lower += denom * weight\n",
        "\n",
        "    return upper / lower if lower > 0 else 0.5"
      ],
      "metadata": {
        "id": "HqdSaYhFBmmQ"
      },
      "execution_count": 16,
      "outputs": []
    },
    {
      "cell_type": "markdown",
      "source": [
        "# Proportional hazards loss"
      ],
      "metadata": {
        "id": "cZID5Jn5DH1l"
      }
    },
    {
      "cell_type": "code",
      "source": [
        "class CoxLoss(tf.keras.losses.Loss):\n",
        "\n",
        "  def __init__(self, **kwargs):\n",
        "    super().__init__(**kwargs) \n",
        "  \n",
        "  def call(\n",
        "      self,\n",
        "      y_true: Tuple[tf.Tensor],\n",
        "      y_pred: tf.Tensor\n",
        "  ) -> tf.Tensor:\n",
        "    \"\"\"Calculate Cox PH Loss.\n",
        "    \n",
        "    Args:\n",
        "      y_true: (at_risk, status).\n",
        "      y_pred: risk.\n",
        "\n",
        "    \"\"\"\n",
        "    \n",
        "    # Note: autograph requires unpacking using indices.\n",
        "    at_risk = y_true[0]\n",
        "    status = y_true[1]\n",
        "    risk_score = tf.squeeze(y_pred)\n",
        "\n",
        "    risk_score_mat = tf.math.multiply(\n",
        "        tf.ones_like(at_risk, dtype=risk_score.dtype), risk_score)\n",
        "    \n",
        "    # Only at-risk subjects contribute to the denominator.\n",
        "    denom = tf.reduce_logsumexp(\n",
        "        tf.ragged.boolean_mask(risk_score_mat, at_risk), axis=-1)\n",
        "  \n",
        "    diff = tf.subtract(risk_score, denom)\n",
        "\n",
        "    # The log-likelihood only increments at event times.\n",
        "    return -1 * tf.reduce_mean(tf.ragged.boolean_mask(diff, status))"
      ],
      "metadata": {
        "id": "h9hE4rA4DKH8"
      },
      "execution_count": 17,
      "outputs": []
    },
    {
      "cell_type": "markdown",
      "source": [
        "## Testing"
      ],
      "metadata": {
        "id": "Obg6A_Lwiu4Q"
      }
    },
    {
      "cell_type": "code",
      "source": [
        "def logsumexp(x: np.ndarray) -> np.ndarray:\n",
        "  delta = np.max(x)\n",
        "  y = x - delta\n",
        "  return delta + np.log(np.sum(np.exp(y)))"
      ],
      "metadata": {
        "id": "z7iWpxnvlfyn"
      },
      "execution_count": 18,
      "outputs": []
    },
    {
      "cell_type": "code",
      "source": [
        "time = tf.constant(np.array([1, 2, 3]), dtype=tf.float32)\n",
        "status = tf.constant(np.array([True, False, True]), dtype=bool)\n",
        "risk_score = tf.constant(np.array([3, 2, 1]), dtype=tf.float32)"
      ],
      "metadata": {
        "id": "0yOh4PJpiwVO"
      },
      "execution_count": 19,
      "outputs": []
    },
    {
      "cell_type": "code",
      "source": [
        "at_risk = np.vstack(list(map(lambda x: time >= x, time)))\n",
        "at_risk = tf.constant(at_risk, dtype=bool)\n",
        "at_risk"
      ],
      "metadata": {
        "colab": {
          "base_uri": "https://localhost:8080/"
        },
        "id": "H94cTvV5jFO7",
        "outputId": "56196dd5-a5e9-48a6-92e6-07422c74cecf"
      },
      "execution_count": 20,
      "outputs": [
        {
          "output_type": "execute_result",
          "data": {
            "text/plain": [
              "<tf.Tensor: shape=(3, 3), dtype=bool, numpy=\n",
              "array([[ True,  True,  True],\n",
              "       [False,  True,  True],\n",
              "       [False, False,  True]])>"
            ]
          },
          "metadata": {},
          "execution_count": 20
        }
      ]
    },
    {
      "cell_type": "code",
      "source": [
        "# Denominator calculation.\n",
        "risk_score_mat = tf.math.multiply(\n",
        "    tf.ones_like(at_risk, dtype=risk_score.dtype), risk_score)\n",
        "denom = tf.reduce_logsumexp(\n",
        "    tf.ragged.boolean_mask(risk_score_mat, at_risk), axis=-1)\n",
        "\n",
        "exp_denom = np.array([\n",
        "    logsumexp([3., 2., 1.]),\n",
        "    logsumexp([2., 1.]),\n",
        "    logsumexp([1.])\n",
        "])\n",
        "assert np.allclose(denom.numpy(), exp_denom)"
      ],
      "metadata": {
        "id": "AO7mZr07jkBT"
      },
      "execution_count": 21,
      "outputs": []
    },
    {
      "cell_type": "code",
      "source": [
        "# Overall calculation.\n",
        "y_true = (at_risk, status)\n",
        "y_pred = risk_score\n",
        "loss_fn = CoxLoss()\n",
        "obs = loss_fn(y_true, y_pred)\n",
        "exp = -1 * np.sum(\n",
        "    status.numpy() * (risk_score.numpy() - exp_denom)) / np.sum(status.numpy())\n",
        "assert np.allclose(obs, exp)"
      ],
      "metadata": {
        "id": "2XolX3JUlvAN"
      },
      "execution_count": 22,
      "outputs": []
    },
    {
      "cell_type": "markdown",
      "source": [
        "## Data preparation\n",
        "\n",
        "* Target `y` will be a tuple containing a `(batch_size, batch_size)` at risk matrix and a `(batch_size,)` status vector where:\n",
        "- `at_risk[i, j] = True` if subject $i$ is at risk at the observation time for subject $j$. \n",
        "- `status[i] = True` if subject $i$ experience an event (as opposed to censoring). "
      ],
      "metadata": {
        "id": "Z1LMP4cm-H2n"
      }
    },
    {
      "cell_type": "code",
      "source": [
        "class InputFunction:\n",
        "  \n",
        "  def __init__(\n",
        "    self,\n",
        "    status: np.ndarray,\n",
        "    time: np.ndarray,\n",
        "    x: np.ndarray,\n",
        "    batch_size=128,\n",
        "    seed=101,\n",
        "    shuffle=True,\n",
        "  ) -> None:\n",
        "    self.batch_size = batch_size\n",
        "    self.n = x.shape[0]\n",
        "    self.seed = seed\n",
        "    self.shuffle = shuffle\n",
        "    self.status = status\n",
        "    self.steps_per_epoch = self.n // batch_size\n",
        "    self.time = time\n",
        "    self.x = x\n",
        "  \n",
        "  @staticmethod\n",
        "  def at_risk(time: np.ndarray) -> np.ndarray:\n",
        "    return np.vstack(list(map(lambda x: time >= x, time)))\n",
        "\n",
        "  def get_batch(\n",
        "      self, index: np.ndarray) -> Tuple[np.ndarray, Tuple[np.ndarray]]:\n",
        "    x = self.x[index]\n",
        "    status = self.status[index]\n",
        "    time = self.time[index]\n",
        "    at_risk = self.at_risk(time)\n",
        "    return x, (at_risk, status)\n",
        "  \n",
        "  def generator(self) -> Iterable[Tuple[np.ndarray, Tuple[np.ndarray]]]:\n",
        "    \"\"\"Data generator.\n",
        "\n",
        "    Note that if the data set size is not evenly divisible by the batch\n",
        "    size, the last batch is dropped.\n",
        "    \n",
        "    \"\"\"\n",
        "    index = np.arange(self.n)\n",
        "    rnd = np.random.RandomState(self.seed)\n",
        "\n",
        "    if self.shuffle:\n",
        "      rnd.shuffle(index)\n",
        "    for b in range(self.steps_per_epoch):\n",
        "      start = b * self.batch_size\n",
        "      idx = index[start:(start + self.batch_size)]\n",
        "      yield self.get_batch(idx)\n",
        "\n",
        "  def make_dataset(self) -> tf.data.Dataset:\n",
        "    \"\"\"Create dataset from generator.\"\"\"\n",
        "    batch_size = self.batch_size\n",
        "    n_covar = self.x.shape[1]\n",
        "\n",
        "    ds = tf.data.Dataset.from_generator(\n",
        "      self.generator,\n",
        "      output_signature=(\n",
        "        tf.TensorSpec(shape=(None, n_covar), dtype=tf.float32),\n",
        "        (tf.TensorSpec(shape=(None, None), dtype=bool), \n",
        "         tf.TensorSpec(shape=(None, ), dtype=bool))\n",
        "      )\n",
        "    )\n",
        "    return ds\n",
        "  \n",
        "  def __call__(self) -> tf.data.Dataset:\n",
        "    return self.make_dataset()"
      ],
      "metadata": {
        "id": "Aly4msBrsgdJ"
      },
      "execution_count": 23,
      "outputs": []
    },
    {
      "cell_type": "code",
      "source": [
        "def prep_datasets(\n",
        "  n,\n",
        "  n_covar=N_COVAR,\n",
        "  train_prop=0.8,\n",
        ") -> Dict[str, Any]:\n",
        "  data = split_data(gen_data(n=n, n_covar=n_covar), train_prop)\n",
        "  keys = [\"train\", \"val\"]\n",
        "  out = {}\n",
        "  for key in keys:\n",
        "    status = data[f\"{key}_status\"]\n",
        "    time = data[f\"{key}_time\"]\n",
        "    x = data[f\"{key}_x\"]\n",
        "    input_fn = InputFunction(status, time, x)\n",
        "    out[f\"{key}_ds\"] = input_fn()\n",
        "  out[\"data\"] = data\n",
        "  return out"
      ],
      "metadata": {
        "id": "dtG8B39gcV5n"
      },
      "execution_count": 24,
      "outputs": []
    },
    {
      "cell_type": "markdown",
      "source": [
        "## Model architecture"
      ],
      "metadata": {
        "id": "ZyGO8Ily-Nve"
      }
    },
    {
      "cell_type": "code",
      "source": [
        "def build_model() -> tf.keras.Model:\n",
        "  input = tf.keras.layers.Input(shape=(N_COVAR,), name=\"input\")\n",
        "  h = tf.keras.layers.Dense(\n",
        "    32,\n",
        "    activation=\"relu\",\n",
        "    kernel_regularizer=tf.keras.regularizers.L2(),\n",
        "    name=\"dense1\"\n",
        "  )(input)\n",
        "  h = tf.keras.layers.Dropout(0.50, name=\"drop\")(h)\n",
        "  h = tf.keras.layers.Dense(\n",
        "    32,\n",
        "    activation=\"relu\",\n",
        "    kernel_regularizer=tf.keras.regularizers.L2(),\n",
        "    name=\"dense2\"\n",
        "  )(h)\n",
        "  output = tf.keras.layers.Dense(1, name=\"output\")(h)\n",
        "  model = tf.keras.Model(input, output, name=\"model\")\n",
        "  return model"
      ],
      "metadata": {
        "id": "szLhusBhz1gH"
      },
      "execution_count": 25,
      "outputs": []
    },
    {
      "cell_type": "markdown",
      "source": [
        "## Built-in training"
      ],
      "metadata": {
        "id": "FUg6Zmqxzpca"
      }
    },
    {
      "cell_type": "code",
      "source": [
        "# Model.\n",
        "model = build_model()"
      ],
      "metadata": {
        "id": "duPYjEi0rxxF"
      },
      "execution_count": 26,
      "outputs": []
    },
    {
      "cell_type": "code",
      "source": [
        "# Data.\n",
        "ds = prep_datasets(n=128 * 100)"
      ],
      "metadata": {
        "id": "YwPqxbUHeGur"
      },
      "execution_count": 27,
      "outputs": []
    },
    {
      "cell_type": "code",
      "source": [
        "# Sample data.\n",
        "x, y_true = next(iter(ds[\"train_ds\"]))"
      ],
      "metadata": {
        "id": "GQGNkfFfeXmh"
      },
      "execution_count": 28,
      "outputs": []
    },
    {
      "cell_type": "code",
      "source": [
        "model.compile(\n",
        "  optimizer=tf.keras.optimizers.Adam(),\n",
        "  loss=CoxLoss()\n",
        ")"
      ],
      "metadata": {
        "id": "ISkkdGmY0oJx"
      },
      "execution_count": 29,
      "outputs": []
    },
    {
      "cell_type": "code",
      "source": [
        "callbacks = [\n",
        "  tf.keras.callbacks.EarlyStopping(patience=10, restore_best_weights=True)\n",
        "]"
      ],
      "metadata": {
        "id": "f2Oe3numyh-g"
      },
      "execution_count": 30,
      "outputs": []
    },
    {
      "cell_type": "code",
      "source": [
        "history = model.fit(\n",
        "  x=ds[\"train_ds\"],\n",
        "  epochs=100,\n",
        "  validation_data=ds[\"val_ds\"],\n",
        "  callbacks=callbacks\n",
        ")"
      ],
      "metadata": {
        "colab": {
          "base_uri": "https://localhost:8080/"
        },
        "id": "G0HNR-Eg0wc3",
        "outputId": "1e445070-20bc-4802-ec9b-1c0901f918a9"
      },
      "execution_count": 31,
      "outputs": [
        {
          "output_type": "stream",
          "name": "stdout",
          "text": [
            "Epoch 1/100\n",
            "80/80 [==============================] - 4s 29ms/step - loss: 4.5489 - val_loss: 4.5142\n",
            "Epoch 2/100\n",
            "80/80 [==============================] - 1s 10ms/step - loss: 4.3071 - val_loss: 4.3360\n",
            "Epoch 3/100\n",
            "80/80 [==============================] - 1s 11ms/step - loss: 4.1621 - val_loss: 4.2330\n",
            "Epoch 4/100\n",
            "80/80 [==============================] - 1s 10ms/step - loss: 4.0800 - val_loss: 4.1629\n",
            "Epoch 5/100\n",
            "80/80 [==============================] - 1s 12ms/step - loss: 4.0215 - val_loss: 4.1166\n",
            "Epoch 6/100\n",
            "80/80 [==============================] - 1s 10ms/step - loss: 3.9826 - val_loss: 4.0863\n",
            "Epoch 7/100\n",
            "80/80 [==============================] - 1s 11ms/step - loss: 3.9553 - val_loss: 4.0610\n",
            "Epoch 8/100\n",
            "80/80 [==============================] - 1s 11ms/step - loss: 3.9325 - val_loss: 4.0435\n",
            "Epoch 9/100\n",
            "80/80 [==============================] - 1s 9ms/step - loss: 3.9159 - val_loss: 4.0302\n",
            "Epoch 10/100\n",
            "80/80 [==============================] - 1s 10ms/step - loss: 3.9072 - val_loss: 4.0201\n",
            "Epoch 11/100\n",
            "80/80 [==============================] - 1s 13ms/step - loss: 3.8963 - val_loss: 4.0148\n",
            "Epoch 12/100\n",
            "80/80 [==============================] - 0s 5ms/step - loss: 3.8930 - val_loss: 4.0083\n",
            "Epoch 13/100\n",
            "80/80 [==============================] - 0s 5ms/step - loss: 3.8826 - val_loss: 4.0052\n",
            "Epoch 14/100\n",
            "80/80 [==============================] - 0s 5ms/step - loss: 3.8838 - val_loss: 4.0026\n",
            "Epoch 15/100\n",
            "80/80 [==============================] - 0s 5ms/step - loss: 3.8804 - val_loss: 4.0012\n",
            "Epoch 16/100\n",
            "80/80 [==============================] - 0s 5ms/step - loss: 3.8717 - val_loss: 4.0031\n",
            "Epoch 17/100\n",
            "80/80 [==============================] - 0s 5ms/step - loss: 3.8769 - val_loss: 3.9981\n",
            "Epoch 18/100\n",
            "80/80 [==============================] - 0s 5ms/step - loss: 3.8702 - val_loss: 3.9995\n",
            "Epoch 19/100\n",
            "80/80 [==============================] - 0s 4ms/step - loss: 3.8686 - val_loss: 4.0031\n",
            "Epoch 20/100\n",
            "80/80 [==============================] - 0s 5ms/step - loss: 3.8673 - val_loss: 4.0025\n",
            "Epoch 21/100\n",
            "80/80 [==============================] - 0s 5ms/step - loss: 3.8676 - val_loss: 4.0003\n",
            "Epoch 22/100\n",
            "80/80 [==============================] - 0s 5ms/step - loss: 3.8591 - val_loss: 4.0087\n",
            "Epoch 23/100\n",
            "80/80 [==============================] - 0s 5ms/step - loss: 3.8744 - val_loss: 4.0008\n",
            "Epoch 24/100\n",
            "80/80 [==============================] - 0s 5ms/step - loss: 3.8721 - val_loss: 3.9989\n",
            "Epoch 25/100\n",
            "80/80 [==============================] - 0s 5ms/step - loss: 3.8702 - val_loss: 3.9970\n",
            "Epoch 26/100\n",
            "80/80 [==============================] - 0s 5ms/step - loss: 3.8621 - val_loss: 3.9990\n",
            "Epoch 27/100\n",
            "80/80 [==============================] - 0s 5ms/step - loss: 3.8645 - val_loss: 4.0030\n",
            "Epoch 28/100\n",
            "80/80 [==============================] - 0s 5ms/step - loss: 3.8663 - val_loss: 4.0013\n",
            "Epoch 29/100\n",
            "80/80 [==============================] - 0s 5ms/step - loss: 3.8706 - val_loss: 3.9979\n",
            "Epoch 30/100\n",
            "80/80 [==============================] - 0s 5ms/step - loss: 3.8693 - val_loss: 3.9988\n",
            "Epoch 31/100\n",
            "80/80 [==============================] - 0s 5ms/step - loss: 3.8694 - val_loss: 3.9991\n",
            "Epoch 32/100\n",
            "80/80 [==============================] - 0s 5ms/step - loss: 3.8688 - val_loss: 3.9999\n",
            "Epoch 33/100\n",
            "80/80 [==============================] - 0s 5ms/step - loss: 3.8723 - val_loss: 3.9978\n",
            "Epoch 34/100\n",
            "80/80 [==============================] - 0s 5ms/step - loss: 3.8607 - val_loss: 4.0086\n",
            "Epoch 35/100\n",
            "80/80 [==============================] - 0s 5ms/step - loss: 3.8630 - val_loss: 3.9983\n"
          ]
        }
      ]
    },
    {
      "cell_type": "code",
      "source": [
        "pd.DataFrame(history.history).plot()"
      ],
      "metadata": {
        "colab": {
          "base_uri": "https://localhost:8080/",
          "height": 283
        },
        "id": "0jCXR-AJhTwy",
        "outputId": "aac598c3-1a16-43ca-c9d4-7edd39e7b876"
      },
      "execution_count": 32,
      "outputs": [
        {
          "output_type": "execute_result",
          "data": {
            "text/plain": [
              "<matplotlib.axes._subplots.AxesSubplot at 0x7fbf32e4bc90>"
            ]
          },
          "metadata": {},
          "execution_count": 32
        },
        {
          "output_type": "display_data",
          "data": {
            "text/plain": [
              "<Figure size 432x288 with 1 Axes>"
            ],
            "image/png": "[encoded data removed]"
          },
          "metadata": {
            "needs_background": "light"
          }
        }
      ]
    }
  ]
}