{
  "nbformat": 4,
  "nbformat_minor": 0,
  "metadata": {
    "colab": {
      "provenance": [],
      "collapsed_sections": [],
      "toc_visible": true
    },
    "kernelspec": {
      "name": "python3",
      "display_name": "Python 3"
    },
    "language_info": {
      "name": "python"
    }
  },
  "cells": [
    {
      "cell_type": "code",
      "execution_count": 149,
      "metadata": {
        "id": "hIBg7AfF6Mnx"
      },
      "outputs": [],
      "source": [
        "from typing import Any, Dict, Iterable, Tuple\n",
        "\n",
        "import matplotlib.pyplot as plt\n",
        "import numpy as np\n",
        "import pandas as pd\n",
        "import seaborn as sns\n",
        "import tensorflow as tf"
      ]
    },
    {
      "cell_type": "markdown",
      "source": [
        "Reference notebook: [Survival Analysis for Deep Learning](https://colab.research.google.com/github/sebp/survival-cnn-estimator/blob/master/tutorial_tf2.ipynb)."
      ],
      "metadata": {
        "id": "moeerMtYDKtB"
      }
    },
    {
      "cell_type": "markdown",
      "source": [
        "# Generate data"
      ],
      "metadata": {
        "id": "WuL4E2KA6XSs"
      }
    },
    {
      "cell_type": "code",
      "source": [
        "N_COVAR = 3"
      ],
      "metadata": {
        "id": "TGTspMD3dys9"
      },
      "execution_count": 122,
      "outputs": []
    },
    {
      "cell_type": "code",
      "source": [
        "def gen_data(\n",
        "  n: int,\n",
        "  base_rate=0.50,\n",
        "  cens_prop=0.20,\n",
        "  n_covar=N_COVAR,\n",
        "  n_freq=3,\n",
        "  tau=4,\n",
        ") -> Dict[str, np.ndarray]:\n",
        "  \"\"\"Generate data.\n",
        "  \n",
        "  Args:\n",
        "    n: Sample size.\n",
        "    base_rate: Base event rate.\n",
        "    cens_prop: Expected censoring proportion.\n",
        "    n_covar: Number of covariates.\n",
        "    n_freq: Number of frequencies.\n",
        "    tau: Truncation time.\n",
        "  \n",
        "  \"\"\"\n",
        "\n",
        "  # Sinusoidal basis.\n",
        "  x = np.random.rand(n, n_covar)\n",
        "  cols = []\n",
        "  for i in range(n_covar):\n",
        "    for f in range(1, n_freq + 1):\n",
        "      cols.append(np.sin(2 * np.pi * x[:, i] * f))\n",
        "      cols.append(np.cos(2 * np.pi * x[:, i] * f))\n",
        "  basis = np.transpose(np.vstack(cols))\n",
        "  n_col = basis.shape[1]\n",
        "  \n",
        "  # Linear predictor.\n",
        "  coef = np.random.randn(n_col)\n",
        "  eta = np.dot(basis, coef)\n",
        "  eta = (eta - np.mean(eta)) / np.std(eta)\n",
        "\n",
        "  # Time-to-event.\n",
        "  event_rate = base_rate * np.exp(eta)\n",
        "  event_time = np.random.exponential(scale=1/event_rate, size=len(event_rate))\n",
        "\n",
        "  cens_rate = (1 - cens_prop) / cens_prop * event_rate \n",
        "  cens_time = np.random.exponential(scale=1/cens_rate, size=len(cens_rate))\n",
        "  cens_time = np.where(cens_time > tau, tau, cens_time)\n",
        "\n",
        "  status = (event_time <= cens_time)\n",
        "  time = np.where(status, event_time, cens_time)\n",
        "\n",
        "  # Output.\n",
        "  return {\n",
        "    \"x\": x,\n",
        "    \"risk\": event_rate,\n",
        "    \"status\": status,\n",
        "    \"time\": time,\n",
        "  }"
      ],
      "metadata": {
        "id": "0nGaPZhy6RHQ"
      },
      "execution_count": 123,
      "outputs": []
    },
    {
      "cell_type": "code",
      "source": [
        "def split_data(\n",
        "  data: Dict[str, np.ndarray],\n",
        "  train_prop: float = 0.8,\n",
        ") -> Dict[str, np.ndarray]:\n",
        "\n",
        "  n = len(data[\"time\"])\n",
        "  n_train = int(train_prop * n)\n",
        "\n",
        "  out = {}\n",
        "  for key in data.keys():\n",
        "    out[f\"train_{key}\"] = data[key][:n_train]\n",
        "    out[f\"val_{key}\"] = data[key][n_train:]\n",
        "  \n",
        "  return out"
      ],
      "metadata": {
        "id": "WiBMyLRfA9Hw"
      },
      "execution_count": 171,
      "outputs": []
    },
    {
      "cell_type": "markdown",
      "source": [
        "# Kaplan-Meier"
      ],
      "metadata": {
        "id": "6zIn6NnUz8-_"
      }
    },
    {
      "cell_type": "markdown",
      "source": [
        "## Build masks"
      ],
      "metadata": {
        "id": "TJDJSJRB3xHw"
      }
    },
    {
      "cell_type": "code",
      "source": [
        "def build_masks(status: np.ndarray, time: np.ndarray) -> Tuple[np.ndarray]:\n",
        "  \"\"\"Build masks.\n",
        "\n",
        "  Create unique-time (row) by subject (col) boolean masks.\n",
        "\n",
        "  Returns:\n",
        "    at_risk: [t, i] = True if subject i is at risk at time t.\n",
        "    cens: [t, i] = True if subject is is censored at time t.\n",
        "    event: [t, i] = True if subject i has an event at time t.\n",
        "    unique_times: Unique times corresponding to the rows.\n",
        "\n",
        "  \"\"\"\n",
        "  n_subj = len(time)\n",
        "\n",
        "  # Add 0 if not present.\n",
        "  unique_times = np.sort(np.unique(time))\n",
        "  if not (0 in unique_times):\n",
        "    unique_times = np.insert(unique_times, 0, 0)\n",
        "  n_unique_time = len(unique_times)\n",
        "\n",
        "  # Masks.\n",
        "  at_risk = np.zeros(shape=(n_unique_time, n_subj), dtype=bool)\n",
        "  cens = np.zeros(shape=(n_unique_time, n_subj), dtype=bool)\n",
        "  event = np.zeros(shape=(n_unique_time, n_subj), dtype=bool)\n",
        "\n",
        "  for i in range(n_subj):\n",
        "    at_risk[:, i] = (time[i] >= unique_times)\n",
        "    which_time = (unique_times == time[i])\n",
        "    cens[:, i] = (not status[i]) * which_time\n",
        "    event[:, i] = status[i] * which_time\n",
        "\n",
        "  return at_risk, cens, event, unique_times"
      ],
      "metadata": {
        "id": "16IWJQfX0zBM"
      },
      "execution_count": 125,
      "outputs": []
    },
    {
      "cell_type": "code",
      "source": [
        "n = 5\n",
        "status = np.array(np.round(np.random.rand(n)), dtype=bool)\n",
        "time = np.arange(n, dtype=float)"
      ],
      "metadata": {
        "id": "lir0LH0b1QL9"
      },
      "execution_count": 126,
      "outputs": []
    },
    {
      "cell_type": "code",
      "source": [
        "print(\"Status:\")\n",
        "print(status)\n",
        "print(\"\\n\")\n",
        "print(\"Time:\")\n",
        "print(time)"
      ],
      "metadata": {
        "colab": {
          "base_uri": "https://localhost:8080/"
        },
        "id": "orADikygX2Pm",
        "outputId": "be00e454-bb78-4c75-a412-bd8d31c456fc"
      },
      "execution_count": 127,
      "outputs": [
        {
          "output_type": "stream",
          "name": "stdout",
          "text": [
            "Status:\n",
            "[False False  True False  True]\n",
            "\n",
            "\n",
            "Time:\n",
            "[0. 1. 2. 3. 4.]\n"
          ]
        }
      ]
    },
    {
      "cell_type": "code",
      "source": [
        "at_risk, cens, event, unique_times = build_masks(status, time)"
      ],
      "metadata": {
        "id": "QaEygEatW8hV"
      },
      "execution_count": 128,
      "outputs": []
    },
    {
      "cell_type": "code",
      "source": [
        "print(\"At risk:\")\n",
        "print(at_risk)"
      ],
      "metadata": {
        "colab": {
          "base_uri": "https://localhost:8080/"
        },
        "id": "elK650DUXprE",
        "outputId": "e123d525-e136-4f7f-bbaa-7875dd547848"
      },
      "execution_count": 129,
      "outputs": [
        {
          "output_type": "stream",
          "name": "stdout",
          "text": [
            "At risk:\n",
            "[[ True  True  True  True  True]\n",
            " [False  True  True  True  True]\n",
            " [False False  True  True  True]\n",
            " [False False False  True  True]\n",
            " [False False False False  True]]\n"
          ]
        }
      ]
    },
    {
      "cell_type": "code",
      "source": [
        "print(\"Censored:\")\n",
        "print(cens)"
      ],
      "metadata": {
        "colab": {
          "base_uri": "https://localhost:8080/"
        },
        "id": "QP-ed6w_YBxO",
        "outputId": "bef52e63-2a90-4568-e073-6bc09b21c328"
      },
      "execution_count": 130,
      "outputs": [
        {
          "output_type": "stream",
          "name": "stdout",
          "text": [
            "Censored:\n",
            "[[ True False False False False]\n",
            " [False  True False False False]\n",
            " [False False False False False]\n",
            " [False False False  True False]\n",
            " [False False False False False]]\n"
          ]
        }
      ]
    },
    {
      "cell_type": "code",
      "source": [
        "print(\"Event:\")\n",
        "print(event)"
      ],
      "metadata": {
        "colab": {
          "base_uri": "https://localhost:8080/"
        },
        "id": "MJ13ZeW7ZTpp",
        "outputId": "bdcc5265-132f-4152-ba64-b241a848d732"
      },
      "execution_count": 131,
      "outputs": [
        {
          "output_type": "stream",
          "name": "stdout",
          "text": [
            "Event:\n",
            "[[False False False False False]\n",
            " [False False False False False]\n",
            " [False False  True False False]\n",
            " [False False False False False]\n",
            " [False False False False  True]]\n"
          ]
        }
      ]
    },
    {
      "cell_type": "markdown",
      "source": [
        "## Tabulate KM"
      ],
      "metadata": {
        "id": "CQv-_vxR5iEm"
      }
    },
    {
      "cell_type": "code",
      "source": [
        "def tab_km(status: np.ndarray, time: np.ndarray) -> pd.DataFrame:\n",
        "  \"\"\"Taublate Kaplan-Meier.\"\"\"\n",
        "  at_risk, cens, event, unique_times = build_masks(status, time)\n",
        "\n",
        "  out = pd.DataFrame({\n",
        "    \"time\": unique_times,\n",
        "    \"n_at_risk\": np.sum(at_risk, axis=1),\n",
        "    \"n_event\": np.sum(event, axis=1),\n",
        "    \"n_cens\": np.sum(cens, axis=1),\n",
        "  })\n",
        "  out[\"haz\"] = out.n_event / out.n_at_risk\n",
        "  out[\"surv\"] = np.cumprod(1 - out.haz)\n",
        "  return out  "
      ],
      "metadata": {
        "id": "3MvKcTRA5j7Y"
      },
      "execution_count": 132,
      "outputs": []
    },
    {
      "cell_type": "markdown",
      "source": [
        "## Estimator"
      ],
      "metadata": {
        "id": "Uc88st1q3zKf"
      }
    },
    {
      "cell_type": "code",
      "source": [
        "class KaplanMeier:\n",
        "\n",
        "  def __init__(self, status: np.ndarray, time: np.ndarray) -> None:\n",
        "    self.status = status\n",
        "    self.time = time\n",
        "    self.km = tab_km(self.status, self.time)\n",
        "  \n",
        "  def return_table(self) -> pd.DataFrame:\n",
        "    return self.km\n",
        "    \n",
        "  def __call__(self, x: float) -> float:\n",
        "    km = self.km\n",
        "    return km.surv[np.max(np.where(km.time <= x))]"
      ],
      "metadata": {
        "id": "bp-kQa8Qz_Q1"
      },
      "execution_count": 213,
      "outputs": []
    },
    {
      "cell_type": "code",
      "source": [
        "# Fit Kaplan-Meier.\n",
        "km = KaplanMeier(\n",
        "  status = np.array([True, False, True, False]),\n",
        "  time = np.arange(1, 5)\n",
        ")\n",
        "km.return_table()"
      ],
      "metadata": {
        "colab": {
          "base_uri": "https://localhost:8080/",
          "height": 206
        },
        "id": "orUVzFo7_eQM",
        "outputId": "a8718079-1b81-4df8-d698-e24a39411c4c"
      },
      "execution_count": 214,
      "outputs": [
        {
          "output_type": "execute_result",
          "data": {
            "text/plain": [
              "   time  n_at_risk  n_event  n_cens   haz   surv\n",
              "0     0          4        0       0  0.00  1.000\n",
              "1     1          4        1       0  0.25  0.750\n",
              "2     2          3        0       1  0.00  0.750\n",
              "3     3          2        1       0  0.50  0.375\n",
              "4     4          1        0       1  0.00  0.375"
            ],
            "text/html": [
              "\n",
              "  <div id=\"df-430c5f56-a7f7-4fb6-afc5-4910a8c733b4\">\n",
              "    <div class=\"colab-df-container\">\n",
              "      <div>\n",
              "<style scoped>\n",
              "    .dataframe tbody tr th:only-of-type {\n",
              "        vertical-align: middle;\n",
              "    }\n",
              "\n",
              "    .dataframe tbody tr th {\n",
              "        vertical-align: top;\n",
              "    }\n",
              "\n",
              "    .dataframe thead th {\n",
              "        text-align: right;\n",
              "    }\n",
              "</style>\n",
              "<table border=\"1\" class=\"dataframe\">\n",
              "  <thead>\n",
              "    <tr style=\"text-align: right;\">\n",
              "      <th></th>\n",
              "      <th>time</th>\n",
              "      <th>n_at_risk</th>\n",
              "      <th>n_event</th>\n",
              "      <th>n_cens</th>\n",
              "      <th>haz</th>\n",
              "      <th>surv</th>\n",
              "    </tr>\n",
              "  </thead>\n",
              "  <tbody>\n",
              "    <tr>\n",
              "      <th>0</th>\n",
              "      <td>0</td>\n",
              "      <td>4</td>\n",
              "      <td>0</td>\n",
              "      <td>0</td>\n",
              "      <td>0.00</td>\n",
              "      <td>1.000</td>\n",
              "    </tr>\n",
              "    <tr>\n",
              "      <th>1</th>\n",
              "      <td>1</td>\n",
              "      <td>4</td>\n",
              "      <td>1</td>\n",
              "      <td>0</td>\n",
              "      <td>0.25</td>\n",
              "      <td>0.750</td>\n",
              "    </tr>\n",
              "    <tr>\n",
              "      <th>2</th>\n",
              "      <td>2</td>\n",
              "      <td>3</td>\n",
              "      <td>0</td>\n",
              "      <td>1</td>\n",
              "      <td>0.00</td>\n",
              "      <td>0.750</td>\n",
              "    </tr>\n",
              "    <tr>\n",
              "      <th>3</th>\n",
              "      <td>3</td>\n",
              "      <td>2</td>\n",
              "      <td>1</td>\n",
              "      <td>0</td>\n",
              "      <td>0.50</td>\n",
              "      <td>0.375</td>\n",
              "    </tr>\n",
              "    <tr>\n",
              "      <th>4</th>\n",
              "      <td>4</td>\n",
              "      <td>1</td>\n",
              "      <td>0</td>\n",
              "      <td>1</td>\n",
              "      <td>0.00</td>\n",
              "      <td>0.375</td>\n",
              "    </tr>\n",
              "  </tbody>\n",
              "</table>\n",
              "</div>\n",
              "      <button class=\"colab-df-convert\" onclick=\"convertToInteractive('df-430c5f56-a7f7-4fb6-afc5-4910a8c733b4')\"\n",
              "              title=\"Convert this dataframe to an interactive table.\"\n",
              "              style=\"display:none;\">\n",
              "        \n",
              "  <svg xmlns=\"http://www.w3.org/2000/svg\" height=\"24px\"viewBox=\"0 0 24 24\"\n",
              "       width=\"24px\">\n",
              "    <path d=\"M0 0h24v24H0V0z\" fill=\"none\"/>\n",
              "    <path d=\"M18.56 5.44l.94 2.06.94-2.06 2.06-.94-2.06-.94-.94-2.06-.94 2.06-2.06.94zm-11 1L8.5 8.5l.94-2.06 2.06-.94-2.06-.94L8.5 2.5l-.94 2.06-2.06.94zm10 10l.94 2.06.94-2.06 2.06-.94-2.06-.94-.94-2.06-.94 2.06-2.06.94z\"/><path d=\"M17.41 7.96l-1.37-1.37c-.4-.4-.92-.59-1.43-.59-.52 0-1.04.2-1.43.59L10.3 9.45l-7.72 7.72c-.78.78-.78 2.05 0 2.83L4 21.41c.39.39.9.59 1.41.59.51 0 1.02-.2 1.41-.59l7.78-7.78 2.81-2.81c.8-.78.8-2.07 0-2.86zM5.41 20L4 18.59l7.72-7.72 1.47 1.35L5.41 20z\"/>\n",
              "  </svg>\n",
              "      </button>\n",
              "      \n",
              "  <style>\n",
              "    .colab-df-container {\n",
              "      display:flex;\n",
              "      flex-wrap:wrap;\n",
              "      gap: 12px;\n",
              "    }\n",
              "\n",
              "    .colab-df-convert {\n",
              "      background-color: #E8F0FE;\n",
              "      border: none;\n",
              "      border-radius: 50%;\n",
              "      cursor: pointer;\n",
              "      display: none;\n",
              "      fill: #1967D2;\n",
              "      height: 32px;\n",
              "      padding: 0 0 0 0;\n",
              "      width: 32px;\n",
              "    }\n",
              "\n",
              "    .colab-df-convert:hover {\n",
              "      background-color: #E2EBFA;\n",
              "      box-shadow: 0px 1px 2px rgba(60, 64, 67, 0.3), 0px 1px 3px 1px rgba(60, 64, 67, 0.15);\n",
              "      fill: #174EA6;\n",
              "    }\n",
              "\n",
              "    [theme=dark] .colab-df-convert {\n",
              "      background-color: #3B4455;\n",
              "      fill: #D2E3FC;\n",
              "    }\n",
              "\n",
              "    [theme=dark] .colab-df-convert:hover {\n",
              "      background-color: #434B5C;\n",
              "      box-shadow: 0px 1px 3px 1px rgba(0, 0, 0, 0.15);\n",
              "      filter: drop-shadow(0px 1px 2px rgba(0, 0, 0, 0.3));\n",
              "      fill: #FFFFFF;\n",
              "    }\n",
              "  </style>\n",
              "\n",
              "      <script>\n",
              "        const buttonEl =\n",
              "          document.querySelector('#df-430c5f56-a7f7-4fb6-afc5-4910a8c733b4 button.colab-df-convert');\n",
              "        buttonEl.style.display =\n",
              "          google.colab.kernel.accessAllowed ? 'block' : 'none';\n",
              "\n",
              "        async function convertToInteractive(key) {\n",
              "          const element = document.querySelector('#df-430c5f56-a7f7-4fb6-afc5-4910a8c733b4');\n",
              "          const dataTable =\n",
              "            await google.colab.kernel.invokeFunction('convertToInteractive',\n",
              "                                                     [key], {});\n",
              "          if (!dataTable) return;\n",
              "\n",
              "          const docLinkHtml = 'Like what you see? Visit the ' +\n",
              "            '<a target=\"_blank\" href=https://colab.research.google.com/notebooks/data_table.ipynb>data table notebook</a>'\n",
              "            + ' to learn more about interactive tables.';\n",
              "          element.innerHTML = '';\n",
              "          dataTable['output_type'] = 'display_data';\n",
              "          await google.colab.output.renderOutput(dataTable, element);\n",
              "          const docLink = document.createElement('div');\n",
              "          docLink.innerHTML = docLinkHtml;\n",
              "          element.appendChild(docLink);\n",
              "        }\n",
              "      </script>\n",
              "    </div>\n",
              "  </div>\n",
              "  "
            ]
          },
          "metadata": {},
          "execution_count": 214
        }
      ]
    },
    {
      "cell_type": "code",
      "source": [
        "# Evaluate Kaplan-Meier.\n",
        "km(1.1)"
      ],
      "metadata": {
        "colab": {
          "base_uri": "https://localhost:8080/"
        },
        "id": "jwIEwT3I_lt4",
        "outputId": "0247b27f-fbc2-4a35-d8bb-dfd4241a6e12"
      },
      "execution_count": 284,
      "outputs": [
        {
          "output_type": "execute_result",
          "data": {
            "text/plain": [
              "0.75"
            ]
          },
          "metadata": {},
          "execution_count": 284
        }
      ]
    },
    {
      "cell_type": "markdown",
      "source": [
        "# C-statistic\n",
        "\n",
        "* Reference: [On the C-statistics for Evaluating Overall Adequacy of Risk Prediction Procedures with Censored Survival Data](https://www.ncbi.nlm.nih.gov/pmc/articles/PMC3079915/)."
      ],
      "metadata": {
        "id": "yKf4ZGBFBlFY"
      }
    },
    {
      "cell_type": "code",
      "source": [
        "class Concord:\n",
        "  \"\"\"Calculate concordance.\n",
        "  \n",
        "  Note that the Kaplan-Meier curve of the censoring distribution may be fit\n",
        "  using different data from that used to calculate the C-statistic.\n",
        "  \n",
        "  \"\"\"\n",
        "\n",
        "  def __init__(self, status: np.ndarray, time: np.ndarray) -> None:\n",
        "    self.km = KaplanMeier(~status, time)\n",
        "  \n",
        "  def __call__(\n",
        "    self,\n",
        "    risk: np.ndarray,\n",
        "    status: np.ndarray,\n",
        "    time: np.ndarray,\n",
        "    tau=None\n",
        "  ) -> float:\n",
        "\n",
        "    n = len(risk)\n",
        "    upper = 0\n",
        "    lower = 0\n",
        "\n",
        "    if not tau:\n",
        "      tau = np.max(time)\n",
        "\n",
        "    for i in range(n):\n",
        "      di, ti, ri = status[i], time[i], risk[i]\n",
        "\n",
        "      # Only cases contribute.\n",
        "      if not di:\n",
        "        continue\n",
        "\n",
        "      for j in range(n):\n",
        "        tj, rj = time[j], risk[j]\n",
        "        denom = di * (ti < tj) * (ti < tau)\n",
        "\n",
        "        # Only calculate censoring weights if denom is non-zero.\n",
        "        if denom:\n",
        "          p_cens = np.squeeze(self.km(ti))\n",
        "          weight = 1 / (p_cens ** 2)\n",
        "          upper += denom * weight * (ri > rj)\n",
        "          lower += denom * weight\n",
        "\n",
        "    return upper / lower if lower > 0 else 0.5"
      ],
      "metadata": {
        "id": "HqdSaYhFBmmQ"
      },
      "execution_count": 216,
      "outputs": []
    },
    {
      "cell_type": "code",
      "source": [
        "risk = np.array([4, 3, 2, 1])\n",
        "status = np.array([True, True, False, True])\n",
        "time = np.array([1, 2, 3, 4])\n",
        "cstat = Concord(status, time)\n",
        "cstat(risk, status, time)"
      ],
      "metadata": {
        "colab": {
          "base_uri": "https://localhost:8080/"
        },
        "id": "JYsaMQOwOwFT",
        "outputId": "6cfe2983-d115-4338-d28b-567fa2ba5608"
      },
      "execution_count": 217,
      "outputs": [
        {
          "output_type": "execute_result",
          "data": {
            "text/plain": [
              "1.0"
            ]
          },
          "metadata": {},
          "execution_count": 217
        }
      ]
    },
    {
      "cell_type": "markdown",
      "source": [
        "# Proportional hazards loss"
      ],
      "metadata": {
        "id": "cZID5Jn5DH1l"
      }
    },
    {
      "cell_type": "code",
      "source": [
        "class CoxLoss(tf.keras.losses.Loss):\n",
        "\n",
        "  def __init__(self, **kwargs):\n",
        "    super().__init__(**kwargs) \n",
        "  \n",
        "  def call(\n",
        "      self,\n",
        "      y_true: Tuple[tf.Tensor],\n",
        "      y_pred: tf.Tensor\n",
        "  ) -> tf.Tensor:\n",
        "    \"\"\"Calculate Cox PH Loss.\n",
        "    \n",
        "    Args:\n",
        "      y_true: (at_risk, event).\n",
        "      y_pred: risk.\n",
        "\n",
        "    \"\"\"\n",
        "    \n",
        "    at_risk, event = y_true\n",
        "    risk_score = tf.squeeze(y_pred)\n",
        "    \n",
        "    at_risk_cast = tf.cast(at_risk, y_pred.dtype)\n",
        "    event_cast = tf.cast(event, y_pred.dtype)\n",
        "\n",
        "    num = tf.reduce_sum(tf.math.multiply(event_cast, risk_score), axis=1)\n",
        "    denom = tf.reduce_logsumexp(tf.math.multiply(at_risk_cast, risk_score), axis=1)\n",
        "    \n",
        "    return -1 * tf.reduce_sum(tf.subtract(num, denom))"
      ],
      "metadata": {
        "id": "h9hE4rA4DKH8"
      },
      "execution_count": 218,
      "outputs": []
    },
    {
      "cell_type": "markdown",
      "source": [
        "# Cox Model"
      ],
      "metadata": {
        "id": "MMQlBGAKILK1"
      }
    },
    {
      "cell_type": "markdown",
      "source": [
        "## Data preparation"
      ],
      "metadata": {
        "id": "Z1LMP4cm-H2n"
      }
    },
    {
      "cell_type": "code",
      "source": [
        "class InputFunction:\n",
        "  \n",
        "  def __init__(\n",
        "    self,\n",
        "    status: np.ndarray,\n",
        "    time: np.ndarray,\n",
        "    x: np.ndarray,\n",
        "    batch_size=128,\n",
        "    seed=101,\n",
        "    shuffle=True,\n",
        "  ) -> None:\n",
        "    self.batch_size = batch_size\n",
        "    self.n = x.shape[0]\n",
        "    self.seed = seed\n",
        "    self.shuffle = shuffle\n",
        "    self.status = status\n",
        "    self.steps_per_epoch = self.n // batch_size\n",
        "    self.time = time\n",
        "    self.x = x\n",
        "  \n",
        "  def get_batch(\n",
        "      self, index: np.ndarray) -> Tuple[np.ndarray, Tuple[np.ndarray]]:\n",
        "    x = self.x[index]\n",
        "    status = self.status[index]\n",
        "    time = self.time[index]\n",
        "    at_risk, _, event, _ = build_masks(status, time)\n",
        "    return x, (at_risk, event)\n",
        "  \n",
        "  def generator(self) -> Iterable[Tuple[np.ndarray, Tuple[np.ndarray]]]:\n",
        "    \"\"\"Data generator.\n",
        "\n",
        "    Note that if the data set size is not evenly divisible by the batch\n",
        "    size, the last batch is dropped.\n",
        "    \n",
        "    \"\"\"\n",
        "    index = np.arange(self.n)\n",
        "    rnd = np.random.RandomState(self.seed)\n",
        "\n",
        "    if self.shuffle:\n",
        "      rnd.shuffle(index)\n",
        "    for b in range(self.steps_per_epoch):\n",
        "      start = b * self.batch_size\n",
        "      idx = index[start:(start + self.batch_size)]\n",
        "      yield self.get_batch(idx)\n",
        "\n",
        "  def make_dataset(self) -> tf.data.Dataset:\n",
        "    \"\"\"Create dataset from generator.\"\"\"\n",
        "    batch_size = self.batch_size\n",
        "    n_covar = self.x.shape[1]\n",
        "\n",
        "    ds = tf.data.Dataset.from_generator(\n",
        "      self.generator,\n",
        "      output_signature=(\n",
        "        tf.TensorSpec(shape=(batch_size, n_covar), dtype=tf.float32),\n",
        "        (tf.TensorSpec(shape=(None, batch_size), dtype=tf.float32), \n",
        "         tf.TensorSpec(shape=(None, batch_size), dtype=tf.float32))\n",
        "      )\n",
        "    )\n",
        "    return ds\n",
        "  \n",
        "  def __call__(self) -> tf.data.Dataset:\n",
        "    return self.make_dataset()"
      ],
      "metadata": {
        "id": "Aly4msBrsgdJ"
      },
      "execution_count": 219,
      "outputs": []
    },
    {
      "cell_type": "code",
      "source": [
        "def prep_datasets(\n",
        "  n,\n",
        "  n_covar=N_COVAR,\n",
        "  train_prop=0.8,\n",
        ") -> Dict[str, Any]:\n",
        "  data = split_data(gen_data(n=n, n_covar=n_covar), train_prop)\n",
        "  keys = [\"train\", \"val\"]\n",
        "  out = {}\n",
        "  for key in keys:\n",
        "    status = data[f\"{key}_status\"]\n",
        "    time = data[f\"{key}_time\"]\n",
        "    x = data[f\"{key}_x\"]\n",
        "    input_fn = InputFunction(status, time, x)\n",
        "    out[f\"{key}_ds\"] = input_fn()\n",
        "  out[\"data\"] = data\n",
        "  return out"
      ],
      "metadata": {
        "id": "dtG8B39gcV5n"
      },
      "execution_count": 220,
      "outputs": []
    },
    {
      "cell_type": "markdown",
      "source": [
        "## Proportional hazards"
      ],
      "metadata": {
        "id": "ZyGO8Ily-Nve"
      }
    },
    {
      "cell_type": "code",
      "source": [
        "class FitCoxModel:\n",
        "\n",
        "  def __init__(\n",
        "    self, \n",
        "    model,\n",
        "    train_ds,\n",
        "    val_ds,\n",
        "    init_epoch=0,\n",
        "    epochs=100,\n",
        "    results_dir=None,\n",
        "  ) -> None:\n",
        "    \"\"\"\n",
        "\n",
        "    Notes:\n",
        "    * Batch size is controlled by the InputFunction. \n",
        "    * `train_ds` and `val_ds` are provided as Tensorflow datasets.\n",
        "    \n",
        "    \"\"\"\n",
        "    self.current_epoch = init_epoch\n",
        "    self.epochs = epochs\n",
        "    self.model = model\n",
        "    self.results_dir = results_dir\n",
        "    self.train_ds = train_ds\n",
        "    self.val_ds = val_ds\n",
        "\n",
        "    self.optimizer = tf.keras.optimizers.Adam()\n",
        "    self.loss_fn = CoxLoss()\n",
        "    \n",
        "    self.train_loss = tf.keras.metrics.Mean(name=\"train_loss\")\n",
        "    self.val_loss = tf.keras.metrics.Mean(name=\"train_loss\")\n",
        "\n",
        "  @tf.function\n",
        "  def train_step(self, x, y) -> None:\n",
        "    with tf.GradientTape() as tape:\n",
        "      y_pred = self.model(x, training=True)\n",
        "      loss = self.loss_fn(y, y_pred)\n",
        "    gradients = tape.gradient(loss, self.model.trainable_variables)\n",
        "    self.optimizer.apply_gradients(zip(gradients, self.model.trainable_variables))\n",
        "    self.train_loss.update_state(loss)\n",
        "  \n",
        "  @tf.function\n",
        "  def val_step(self, x, y) -> None:\n",
        "    y_pred = self.model(x, training=False)\n",
        "    loss = self.loss_fn(y, y_pred)\n",
        "    self.val_loss.update_state(loss)\n",
        "  \n",
        "  def epoch(self, report_freq=10, verbose=True) -> Dict[str, float]:\n",
        "    self.train_loss.reset_states()\n",
        "    self.val_loss.reset_states()\n",
        "\n",
        "    # Loop over training data.\n",
        "    for x, y in self.train_ds:\n",
        "      self.train_step(x, y)\n",
        "    \n",
        "    # Loop over validation data.\n",
        "    for x, y in self.val_ds:\n",
        "      self.val_step(x, y)\n",
        "    \n",
        "    train_loss = self.train_loss.result()\n",
        "    val_loss = self.val_loss.result()\n",
        "\n",
        "    # Report.\n",
        "    if verbose:\n",
        "      if (self.current_epoch % report_freq) == 0:\n",
        "        print(f\"\"\"\n",
        "          Epoch {self.current_epoch},\n",
        "          Train loss: {train_loss:.3f},\n",
        "          Validation loss: {val_loss:.3f}\n",
        "          \"\"\")\n",
        "\n",
        "    # Increment epoch.\n",
        "    self.current_epoch += 1\n",
        "    return {\n",
        "      \"epoch\": self.current_epoch - 1,\n",
        "      \"train_loss\": train_loss.numpy(),\n",
        "      \"val_loss\": val_loss.numpy(),\n",
        "    }\n",
        "  \n",
        "  def fit(self, report_freq=10, verbose=True) -> pd.DataFrame:\n",
        "    out = {\"epoch\": [], \"train_loss\": [], \"val_loss\": []}\n",
        "    for _ in range(self.epochs):\n",
        "      losses = self.epoch(report_freq, verbose)\n",
        "\n",
        "      for key in losses:\n",
        "        out[key].append(losses[key])\n",
        "    \n",
        "    return pd.DataFrame(out)\n",
        "\n",
        "  def return_model(self) -> tf.keras.Model:\n",
        "    return self.model"
      ],
      "metadata": {
        "id": "NsfdxaAQ42OK"
      },
      "execution_count": 258,
      "outputs": []
    },
    {
      "cell_type": "markdown",
      "source": [
        "## Example"
      ],
      "metadata": {
        "id": "805GdPvDApns"
      }
    },
    {
      "cell_type": "code",
      "source": [
        "# Model.\n",
        "input = tf.keras.layers.Input(shape=(N_COVAR,), name=\"input\")\n",
        "h = tf.keras.layers.Dense(25, activation=\"selu\", name=\"dense1\")(input)\n",
        "h = tf.keras.layers.Dropout(0.5, name=\"drop1\")(h)\n",
        "h = tf.keras.layers.Dense(25, activation=\"relu\", name=\"dense2\")(h)\n",
        "h = tf.keras.layers.Dropout(0.5, name=\"drop2\")(h)\n",
        "h = tf.keras.layers.Dense(25, activation=\"relu\", name=\"dense3\")(h)\n",
        "h = tf.keras.layers.Dropout(0.5, name=\"drop3\")(h)\n",
        "output = tf.keras.layers.Dense(1, name=\"output\")(h)\n",
        "model = tf.keras.Model(input, output, name=\"model\")"
      ],
      "metadata": {
        "id": "zvA8uWhV4708"
      },
      "execution_count": 277,
      "outputs": []
    },
    {
      "cell_type": "code",
      "source": [
        "# Prepare data sets.\n",
        "ds = prep_datasets(n=128 * 10 * 2)\n",
        "trainer = FitCoxModel(model, ds[\"train_ds\"], ds[\"val_ds\"])"
      ],
      "metadata": {
        "id": "Mz2CkzB_C1mh"
      },
      "execution_count": 278,
      "outputs": []
    },
    {
      "cell_type": "code",
      "source": [
        "# Train.\n",
        "history = trainer.fit()"
      ],
      "metadata": {
        "colab": {
          "base_uri": "https://localhost:8080/"
        },
        "id": "bCyTPCTUeJez",
        "outputId": "2cf2a054-1641-4a92-965f-a830ed2b3ffc"
      },
      "execution_count": 279,
      "outputs": [
        {
          "output_type": "stream",
          "name": "stdout",
          "text": [
            "\n",
            "          Epoch 0,\n",
            "          Train loss: 639.361,\n",
            "          Validation loss: 616.893\n",
            "          \n",
            "\n",
            "          Epoch 10,\n",
            "          Train loss: 591.846,\n",
            "          Validation loss: 586.849\n",
            "          \n",
            "\n",
            "          Epoch 20,\n",
            "          Train loss: 588.202,\n",
            "          Validation loss: 585.682\n",
            "          \n",
            "\n",
            "          Epoch 30,\n",
            "          Train loss: 586.175,\n",
            "          Validation loss: 584.913\n",
            "          \n",
            "\n",
            "          Epoch 40,\n",
            "          Train loss: 584.175,\n",
            "          Validation loss: 584.286\n",
            "          \n",
            "\n",
            "          Epoch 50,\n",
            "          Train loss: 583.090,\n",
            "          Validation loss: 584.133\n",
            "          \n",
            "\n",
            "          Epoch 60,\n",
            "          Train loss: 583.378,\n",
            "          Validation loss: 583.923\n",
            "          \n",
            "\n",
            "          Epoch 70,\n",
            "          Train loss: 583.953,\n",
            "          Validation loss: 583.952\n",
            "          \n",
            "\n",
            "          Epoch 80,\n",
            "          Train loss: 583.167,\n",
            "          Validation loss: 583.892\n",
            "          \n",
            "\n",
            "          Epoch 90,\n",
            "          Train loss: 581.752,\n",
            "          Validation loss: 583.857\n",
            "          \n"
          ]
        }
      ]
    },
    {
      "cell_type": "code",
      "source": [
        "# Plot training history.\n",
        "melt_history = pd.melt(history, \"epoch\", var_name=\"loss\", value_name=\"y\")\n",
        "plt.figure(figsize=(8, 5))\n",
        "sns.lineplot(data=melt_history, x=\"epoch\", y=\"y\", hue=\"loss\")\n",
        "plt.xlabel(\"Epoch\")\n",
        "plt.ylabel(\"Loss\")\n",
        "plt.legend([\"Train\", \"Val\"])\n",
        "plt.show()"
      ],
      "metadata": {
        "colab": {
          "base_uri": "https://localhost:8080/",
          "height": 334
        },
        "id": "aeKy_zq7gfRQ",
        "outputId": "27879fac-be1e-458d-b7fe-529649aa2ed3"
      },
      "execution_count": 280,
      "outputs": [
        {
          "output_type": "display_data",
          "data": {
            "text/plain": [
              "<Figure size 576x360 with 1 Axes>"
            ],
            "image/png": "[encoded data removed]"
          },
          "metadata": {
            "needs_background": "light"
          }
        }
      ]
    },
    {
      "cell_type": "code",
      "source": [
        "# Calculate C statistics.\n",
        "data = ds[\"data\"]\n",
        "cstat = Concord(data[\"train_status\"], data[\"train_time\"])"
      ],
      "metadata": {
        "id": "8-O3-6KMh8wA"
      },
      "execution_count": 281,
      "outputs": []
    },
    {
      "cell_type": "code",
      "source": [
        "# Optimal C-statistic, based on true event rate.\n",
        "c_opt = cstat(data[\"val_risk\"], data[\"val_status\"], data[\"val_time\"])\n",
        "print(f\"Optimal C-statistic: {c_opt:.3f}\")"
      ],
      "metadata": {
        "colab": {
          "base_uri": "https://localhost:8080/"
        },
        "id": "KGgv6bmajmEU",
        "outputId": "82671b2e-0d61-4c0a-95cc-51223b965331"
      },
      "execution_count": 282,
      "outputs": [
        {
          "output_type": "stream",
          "name": "stdout",
          "text": [
            "Optimal C-statistic: 0.729\n"
          ]
        }
      ]
    },
    {
      "cell_type": "code",
      "source": [
        "# Model C-statistic.\n",
        "model = trainer.return_model()\n",
        "risk = np.squeeze(model.predict(data[\"val_x\"]))\n",
        "c_model = cstat(risk, data[\"val_status\"], data[\"val_time\"])\n",
        "print(f\"Model C-statistic: {c_model:.3f}\")"
      ],
      "metadata": {
        "colab": {
          "base_uri": "https://localhost:8080/"
        },
        "id": "zTEeck2djm0O",
        "outputId": "ae105588-84b4-41d8-a32f-2461ad117fad"
      },
      "execution_count": 283,
      "outputs": [
        {
          "output_type": "stream",
          "name": "stdout",
          "text": [
            "Model C-statistic: 0.557\n"
          ]
        }
      ]
    },
    {
      "cell_type": "code",
      "source": [],
      "metadata": {
        "id": "duPYjEi0rxxF"
      },
      "execution_count": null,
      "outputs": []
    }
  ]
}