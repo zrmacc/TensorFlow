{
  "nbformat": 4,
  "nbformat_minor": 0,
  "metadata": {
    "colab": {
      "provenance": [],
      "toc_visible": true
    },
    "kernelspec": {
      "name": "python3",
      "display_name": "Python 3"
    },
    "language_info": {
      "name": "python"
    }
  },
  "cells": [
    {
      "cell_type": "code",
      "source": [
        "%%capture\n",
        "! pip install umap-learn"
      ],
      "metadata": {
        "id": "PN9PX4Uhq5J_"
      },
      "execution_count": 1,
      "outputs": []
    },
    {
      "cell_type": "code",
      "execution_count": 19,
      "metadata": {
        "id": "aOHJ94Sk6i4c",
        "colab": {
          "base_uri": "https://localhost:8080/"
        },
        "outputId": "d8a19740-65a7-4f8f-e756-b2865bc22927"
      },
      "outputs": [
        {
          "output_type": "stream",
          "name": "stdout",
          "text": [
            "The tensorboard extension is already loaded. To reload it, use:\n",
            "  %reload_ext tensorboard\n"
          ]
        }
      ],
      "source": [
        "from typing import Any, Dict, Tuple\n",
        "\n",
        "import matplotlib.pyplot as plt\n",
        "import numpy as np\n",
        "from sklearn.model_selection import train_test_split\n",
        "import seaborn as sns\n",
        "import tensorflow as tf\n",
        "%load_ext tensorboard\n",
        "\n",
        "import umap"
      ]
    },
    {
      "cell_type": "markdown",
      "source": [
        "## VAE"
      ],
      "metadata": {
        "id": "sV6P3S006n-u"
      }
    },
    {
      "cell_type": "code",
      "source": [
        "class VAE(tf.keras.models.Model):\n",
        "  def __init__(self, encoder, decoder, beta=0.1, **kwargs):\n",
        "    super(VAE, self).__init__(**kwargs)\n",
        "    self.encoder = encoder\n",
        "    self.decoder = decoder\n",
        "    self.beta = beta\n",
        "    self.loss_total = tf.keras.metrics.Mean(\"loss_total\")\n",
        "    self.loss_rebuild = tf.keras.metrics.Mean(\"loss_rebuild\")\n",
        "    self.loss_kl = tf.keras.metrics.Mean(\"loss_kl\")\n",
        "\n",
        "  @property\n",
        "  def metrics(self):\n",
        "    return [\n",
        "        self.loss_total,\n",
        "        self.loss_rebuild,\n",
        "        self.loss_kl,\n",
        "    ]\n",
        "\n",
        "  def call(self, inputs):\n",
        "    mu, log_sigma, z = self.encoder(inputs)\n",
        "    x_hat = self.decoder(z)\n",
        "    return mu, log_sigma, x_hat\n",
        "\n",
        "  def train_step(self, data):\n",
        "    with tf.GradientTape() as tape:\n",
        "      mu, log_sigma, x_hat = self(data)\n",
        "      # loss_rebuild = tf.reduce_mean(tf.keras.losses.mean_squared_error(data, x_hat))\n",
        "      loss_rebuild = tf.reduce_mean(tf.keras.losses.binary_crossentropy(data, x_hat, axis=(1, 2, 3)))\n",
        "      loss_kl = tf.reduce_mean(tf.reduce_sum(-0.5 * (1 + log_sigma - tf.square(mu) - tf.exp(log_sigma)), axis=1))\n",
        "      loss_total = loss_rebuild + self.beta * loss_kl\n",
        "\n",
        "    grads = tape.gradient(loss_total, self.trainable_weights)\n",
        "    self.optimizer.apply_gradients(zip(grads, self.trainable_weights))\n",
        "    self.loss_total.update_state(loss_total)\n",
        "    self.loss_rebuild.update_state(loss_rebuild)\n",
        "    self.loss_kl.update_state(loss_kl)\n",
        "\n",
        "    return {m.name: m.result() for m in self.metrics}"
      ],
      "metadata": {
        "id": "hbmrIkVX7MJt"
      },
      "execution_count": 72,
      "outputs": []
    },
    {
      "cell_type": "markdown",
      "source": [
        "### Sampling"
      ],
      "metadata": {
        "id": "5Phdo8TJAUYR"
      }
    },
    {
      "cell_type": "code",
      "source": [
        "class Sample(tf.keras.layers.Layer):\n",
        "  \"\"\"Sample encoding.\n",
        "\n",
        "  Draw a multivariate normal random vector with specified mean and log variance.\n",
        "  The covariance structure is assumed diagonal.\n",
        "\n",
        "  \"\"\"\n",
        "  def call(self, inputs):\n",
        "    mu, log_sigma = inputs\n",
        "    eps = tf.keras.backend.random_normal(shape=tf.shape(mu))\n",
        "    z = mu + tf.exp(0.5 * log_sigma) * eps\n",
        "    return z"
      ],
      "metadata": {
        "id": "8vUpsN1DAVgp"
      },
      "execution_count": 73,
      "outputs": []
    },
    {
      "cell_type": "markdown",
      "source": [
        "### Encoder"
      ],
      "metadata": {
        "id": "wXT0CCRH_Kfd"
      }
    },
    {
      "cell_type": "code",
      "source": [
        "def build_encoder(\n",
        "  input_dim: int=28,\n",
        "  latent_dim: int=128,\n",
        "  num_blocks: int=2,\n",
        "  base_filters: int=32,\n",
        "  kernel_size: int=3,\n",
        ") -> Dict[str, Any]:\n",
        "  \"\"\"Build encoder.\n",
        "\n",
        "  Notes:\n",
        "    * Assumes gray-scale images.\n",
        "\n",
        "  Args:\n",
        "    input_dim: Input dimension.\n",
        "    latent_dim: Dimension of embedding space.\n",
        "    num_blocks: Number of convolutional blocks.\n",
        "    base_filters: Number of filters in the base convolution, doubles each block.\n",
        "    kernel_size: Size of convolution kernel.\n",
        "\n",
        "  \"\"\"\n",
        "\n",
        "  # Input.\n",
        "  input = tf.keras.layers.Input(shape=(input_dim, input_dim, 1), name=\"input\")\n",
        "  h = input\n",
        "\n",
        "  # Convolutional blocks.\n",
        "  for i in range(num_blocks):\n",
        "    h = tf.keras.layers.Conv2D(\n",
        "        base_filters * (2 ** i),\n",
        "        kernel_size,\n",
        "        padding=\"same\",\n",
        "        name=f\"conv{i}\"\n",
        "      )(h)\n",
        "    width = tf.keras.backend.int_shape(h)[1]\n",
        "    if (width % 2 == 0):\n",
        "      h = tf.keras.layers.MaxPool2D(name=f\"pool{i}\")(h)\n",
        "    else:\n",
        "      h = tf.keras.layers.MaxPool2D(pool_size=1, name=f\"pool{i}\")(h)\n",
        "    h = tf.keras.layers.BatchNormalization(name=f\"norm{i}\")(h)\n",
        "    h = tf.keras.layers.ELU(name=f\"elu{i}\")(h)\n",
        "\n",
        "  # Flatten last convolutional layer for input into mu and log_sigma. Save\n",
        "  # penultimate shape for use by decoder.\n",
        "  last_conv_shape = tf.keras.backend.int_shape(h)\n",
        "  h = tf.keras.layers.Flatten(name=\"flat\")(h)\n",
        "\n",
        "  # Mean, log variance, stochastic embedding.\n",
        "  mu = tf.keras.layers.Dense(latent_dim, name=\"mu\")(h)\n",
        "  log_sigma = tf.keras.layers.Dense(latent_dim, name=\"log_sigma\")(h)\n",
        "  z = Sample()([mu, log_sigma])\n",
        "\n",
        "  # Overall model.\n",
        "  encoder = tf.keras.models.Model(input, [mu, log_sigma, z], name=\"encoder\")\n",
        "  return {\n",
        "    \"model\": encoder,\n",
        "    \"input_shape\": tf.keras.backend.int_shape(input),\n",
        "    \"last_conv_shape\": last_conv_shape[1:],\n",
        "  }"
      ],
      "metadata": {
        "id": "rNgRN5YU-FzZ"
      },
      "execution_count": 126,
      "outputs": []
    },
    {
      "cell_type": "markdown",
      "source": [
        "### Decoder"
      ],
      "metadata": {
        "id": "asu04qh7BaEg"
      }
    },
    {
      "cell_type": "code",
      "source": [
        "def build_decoder(\n",
        "  last_conv_shape: Tuple[int],\n",
        "  output_dim: int=28,\n",
        "  latent_dim: int=128,\n",
        "  num_blocks: int=2,\n",
        "  kernel_size: int=3,\n",
        ") -> tf.keras.Model:\n",
        "  \"\"\"Build decoder.\n",
        "\n",
        "  Args:\n",
        "    last_conv_shape: Dimension of output from the last convolutional layer\n",
        "      of the encoder.\n",
        "    output_dim: Dimension of the reconstructed image.\n",
        "    latent_dim: Dimension of embedding space.\n",
        "    num_blocks: Number of transpose convolutional blocks; should match\n",
        "      the encoder.\n",
        "    kernel_size: Size of transposed convolution kernel.\n",
        "\n",
        "  \"\"\"\n",
        "\n",
        "  input = tf.keras.layers.Input(shape=(latent_dim,), name=\"input\")\n",
        "  h = tf.keras.layers.Dense(np.prod(last_conv_shape), name=\"dense1\")(input)\n",
        "  h = tf.keras.layers.Reshape(last_conv_shape, name=\"reshape\")(h)\n",
        "\n",
        "  # Transposed convolutions.\n",
        "  base_filters = last_conv_shape[2]\n",
        "  for i in range(num_blocks):\n",
        "    width = tf.keras.backend.int_shape(h)[1]\n",
        "    if width * 2 > output_dim:\n",
        "      strides = 1\n",
        "    else:\n",
        "      strides = 2\n",
        "    h = tf.keras.layers.Conv2DTranspose(\n",
        "      base_filters * (2 ** (-i)),\n",
        "      kernel_size,\n",
        "      strides=strides,\n",
        "      padding=\"same\",\n",
        "      name=f\"convt{i}\"\n",
        "    )(h)\n",
        "    # h = tf.keras.layers.BatchNormalization(name=f\"norm{i}\")(h)\n",
        "    h = tf.keras.layers.ELU(name=f\"elu{i}\")(h)\n",
        "\n",
        "  # Final output.\n",
        "  output = tf.keras.layers.Conv2D(\n",
        "      1, kernel_size, activation=\"sigmoid\", padding=\"same\", name=\"output\")(h)\n",
        "\n",
        "  decoder = tf.keras.Model(input, output, name=\"deconder\")\n",
        "  return {\n",
        "    \"model\": decoder,\n",
        "    \"output_shape\": tf.keras.backend.int_shape(output),\n",
        "  }"
      ],
      "metadata": {
        "id": "pT4FApesBbeF"
      },
      "execution_count": 127,
      "outputs": []
    },
    {
      "cell_type": "markdown",
      "source": [
        "## Example"
      ],
      "metadata": {
        "id": "Ajx09psq7LK8"
      }
    },
    {
      "cell_type": "markdown",
      "source": [
        "### Data"
      ],
      "metadata": {
        "id": "r0Dg3Xc0d_aK"
      }
    },
    {
      "cell_type": "code",
      "source": [
        "def prepare_mnist_data(\n",
        "  val_frac: float=0.2,\n",
        "  seed: int=101,\n",
        ") -> Dict[str, Any]:\n",
        "\n",
        "  # Load data.\n",
        "  (x_train_val, y_train_val), (x_test, y_test) = \\\n",
        "    tf.keras.datasets.mnist.load_data()\n",
        "\n",
        "  # Standardize.\n",
        "  x_train_val = x_train_val.astype(\"float32\") / 255.0\n",
        "  x_test  = x_test.astype(\"float32\")  / 255.0\n",
        "\n",
        "  # Add channel axis.\n",
        "  x_train_val = np.expand_dims(x_train_val, axis=-1)\n",
        "  x_test = np.expand_dims(x_test, axis=-1)\n",
        "\n",
        "  # Split into training and validation.\n",
        "  x_train, x_val, y_train, y_val = \\\n",
        "    train_test_split(\n",
        "      x_train_val,\n",
        "      y_train_val,\n",
        "      test_size=val_frac,\n",
        "      random_state=seed,\n",
        "    )\n",
        "\n",
        "  # Output.\n",
        "  return {\n",
        "    \"x_train\": x_train,\n",
        "    \"y_train\": y_train,\n",
        "    \"x_val\": x_val,\n",
        "    \"y_val\": y_val,\n",
        "    \"x_test\": x_test,\n",
        "    \"y_test\": y_test,\n",
        "  }\n"
      ],
      "metadata": {
        "id": "mhSw6jm-hB8D"
      },
      "execution_count": 128,
      "outputs": []
    },
    {
      "cell_type": "code",
      "source": [
        "data = prepare_mnist_data()"
      ],
      "metadata": {
        "id": "8EI2MjU5jkLA"
      },
      "execution_count": 129,
      "outputs": []
    },
    {
      "cell_type": "markdown",
      "source": [
        "### Model"
      ],
      "metadata": {
        "id": "MbtaqeppeBYN"
      }
    },
    {
      "cell_type": "code",
      "source": [
        "# Construct encoder.\n",
        "encoder_dict = build_encoder()\n",
        "encoder = encoder_dict[\"model\"]\n",
        "input_shape = encoder_dict[\"input_shape\"]\n",
        "last_conv_shape = encoder_dict[\"last_conv_shape\"]\n",
        "# encoder.summary()"
      ],
      "metadata": {
        "id": "xfR5IMvm89mb"
      },
      "execution_count": 130,
      "outputs": []
    },
    {
      "cell_type": "code",
      "source": [
        "# Construct deconder.\n",
        "decoder_dict = build_decoder(last_conv_shape)\n",
        "decoder = decoder_dict[\"model\"]\n",
        "output_shape = decoder_dict[\"output_shape\"]\n",
        "# decoder.summary()"
      ],
      "metadata": {
        "id": "dggwoAjqhfVA"
      },
      "execution_count": 131,
      "outputs": []
    },
    {
      "cell_type": "code",
      "source": [
        "assert input_shape == output_shape, \"Input and output shapes do not match.\""
      ],
      "metadata": {
        "id": "ruEbFrmJxmxl"
      },
      "execution_count": 132,
      "outputs": []
    },
    {
      "cell_type": "code",
      "source": [
        "vae = VAE(encoder, decoder, beta=0.0001)\n",
        "vae.compile(\n",
        "  optimizer=tf.keras.optimizers.Adam(learning_rate=0.01)\n",
        ")"
      ],
      "metadata": {
        "id": "CdE8B-SIxtn7"
      },
      "execution_count": 174,
      "outputs": []
    },
    {
      "cell_type": "markdown",
      "source": [
        "### Callbacks"
      ],
      "metadata": {
        "id": "mYw4WuxRetc8"
      }
    },
    {
      "cell_type": "code",
      "source": [
        "checkpoint_callback = tf.keras.callbacks.ModelCheckpoint(\n",
        "  filepath=\"logs/base_vae/checkpoints/\",\n",
        "  monitor=\"loss\"\n",
        ")"
      ],
      "metadata": {
        "id": "QEifQkKkCOy6"
      },
      "execution_count": 175,
      "outputs": []
    },
    {
      "cell_type": "code",
      "source": [
        "tensorboard_callback = tf.keras.callbacks.TensorBoard(\n",
        "  log_dir=\"logs/base_vae/\",\n",
        "  histogram_freq=1,\n",
        "  write_graph=False,\n",
        ")"
      ],
      "metadata": {
        "id": "p-QOVfkaeuZH"
      },
      "execution_count": 176,
      "outputs": []
    },
    {
      "cell_type": "code",
      "source": [
        "callbacks = [\n",
        "  checkpoint_callback,\n",
        "  tensorboard_callback,\n",
        "]"
      ],
      "metadata": {
        "id": "B0WT1hPtCZG5"
      },
      "execution_count": 177,
      "outputs": []
    },
    {
      "cell_type": "markdown",
      "source": [
        "### Training"
      ],
      "metadata": {
        "id": "69eYRLXN01AA"
      }
    },
    {
      "cell_type": "code",
      "source": [
        "#%tensorboard --logdir logs/base_vae/"
      ],
      "metadata": {
        "id": "MkKuELXwlaPG"
      },
      "execution_count": 178,
      "outputs": []
    },
    {
      "cell_type": "code",
      "source": [
        "# Train.\n",
        "history = vae.fit(\n",
        "  x=data[\"x_train\"],\n",
        "  callbacks=callbacks,\n",
        "  batch_size=128,\n",
        "  epochs=3,\n",
        ")"
      ],
      "metadata": {
        "colab": {
          "base_uri": "https://localhost:8080/"
        },
        "id": "kBYxXiZEygho",
        "outputId": "c94173c1-2aad-403e-d412-efa4e7e5dd4b"
      },
      "execution_count": 179,
      "outputs": [
        {
          "output_type": "stream",
          "name": "stdout",
          "text": [
            "Epoch 1/3\n",
            "375/375 [==============================] - ETA: 0s - loss_total: 0.5393 - loss_rebuild: 0.2256 - loss_kl: 3136.8711"
          ]
        },
        {
          "output_type": "stream",
          "name": "stderr",
          "text": [
            "WARNING:tensorflow:Model's `__init__()` arguments contain non-serializable objects. Please implement a `get_config()` method in the subclassed Model for proper saving and loading. Defaulting to empty config.\n",
            "WARNING:tensorflow:Model's `__init__()` arguments contain non-serializable objects. Please implement a `get_config()` method in the subclassed Model for proper saving and loading. Defaulting to empty config.\n",
            "WARNING:absl:Found untraced functions such as _update_step_xla, _jit_compiled_convolution_op, _jit_compiled_convolution_op, _jit_compiled_convolution_op, _jit_compiled_convolution_op while saving (showing 5 of 6). These functions will not be directly callable after loading.\n",
            "WARNING:tensorflow:Model's `__init__()` arguments contain non-serializable objects. Please implement a `get_config()` method in the subclassed Model for proper saving and loading. Defaulting to empty config.\n",
            "WARNING:tensorflow:Model's `__init__()` arguments contain non-serializable objects. Please implement a `get_config()` method in the subclassed Model for proper saving and loading. Defaulting to empty config.\n"
          ]
        },
        {
          "output_type": "stream",
          "name": "stdout",
          "text": [
            "\b\b\b\b\b\b\b\b\b\b\b\b\b\b\b\b\b\b\b\b\b\b\b\b\b\b\b\b\b\b\b\b\b\b\b\b\b\b\b\b\b\b\b\b\b\b\b\b\b\b\b\b\b\b\b\b\b\b\b\b\b\b\b\b\b\b\b\b\b\b\b\b\b\b\b\b\b\b\b\b\b\b\b\b\b\b\b\b\b\b\b\b\b\b\b\b\b\b\b\b\b\b\b\b\b\b\b\b\b\b\b\b\b\b\b\r375/375 [==============================] - 119s 309ms/step - loss_total: 0.5393 - loss_rebuild: 0.2256 - loss_kl: 3136.8711\n",
            "Epoch 2/3\n",
            "375/375 [==============================] - ETA: 0s - loss_total: 0.1176 - loss_rebuild: 0.0916 - loss_kl: 260.3642"
          ]
        },
        {
          "output_type": "stream",
          "name": "stderr",
          "text": [
            "WARNING:tensorflow:Model's `__init__()` arguments contain non-serializable objects. Please implement a `get_config()` method in the subclassed Model for proper saving and loading. Defaulting to empty config.\n",
            "WARNING:tensorflow:Model's `__init__()` arguments contain non-serializable objects. Please implement a `get_config()` method in the subclassed Model for proper saving and loading. Defaulting to empty config.\n",
            "WARNING:absl:Found untraced functions such as _update_step_xla, _jit_compiled_convolution_op, _jit_compiled_convolution_op, _jit_compiled_convolution_op, _jit_compiled_convolution_op while saving (showing 5 of 6). These functions will not be directly callable after loading.\n",
            "WARNING:tensorflow:Model's `__init__()` arguments contain non-serializable objects. Please implement a `get_config()` method in the subclassed Model for proper saving and loading. Defaulting to empty config.\n",
            "WARNING:tensorflow:Model's `__init__()` arguments contain non-serializable objects. Please implement a `get_config()` method in the subclassed Model for proper saving and loading. Defaulting to empty config.\n"
          ]
        },
        {
          "output_type": "stream",
          "name": "stdout",
          "text": [
            "\b\b\b\b\b\b\b\b\b\b\b\b\b\b\b\b\b\b\b\b\b\b\b\b\b\b\b\b\b\b\b\b\b\b\b\b\b\b\b\b\b\b\b\b\b\b\b\b\b\b\b\b\b\b\b\b\b\b\b\b\b\b\b\b\b\b\b\b\b\b\b\b\b\b\b\b\b\b\b\b\b\b\b\b\b\b\b\b\b\b\b\b\b\b\b\b\b\b\b\b\b\b\b\b\b\b\b\b\b\b\b\b\b\b\r375/375 [==============================] - 115s 306ms/step - loss_total: 0.1176 - loss_rebuild: 0.0916 - loss_kl: 260.3642\n",
            "Epoch 3/3\n",
            "375/375 [==============================] - ETA: 0s - loss_total: 0.1060 - loss_rebuild: 0.0868 - loss_kl: 191.9742"
          ]
        },
        {
          "output_type": "stream",
          "name": "stderr",
          "text": [
            "WARNING:tensorflow:Model's `__init__()` arguments contain non-serializable objects. Please implement a `get_config()` method in the subclassed Model for proper saving and loading. Defaulting to empty config.\n",
            "WARNING:tensorflow:Model's `__init__()` arguments contain non-serializable objects. Please implement a `get_config()` method in the subclassed Model for proper saving and loading. Defaulting to empty config.\n",
            "WARNING:absl:Found untraced functions such as _update_step_xla, _jit_compiled_convolution_op, _jit_compiled_convolution_op, _jit_compiled_convolution_op, _jit_compiled_convolution_op while saving (showing 5 of 6). These functions will not be directly callable after loading.\n",
            "WARNING:tensorflow:Model's `__init__()` arguments contain non-serializable objects. Please implement a `get_config()` method in the subclassed Model for proper saving and loading. Defaulting to empty config.\n",
            "WARNING:tensorflow:Model's `__init__()` arguments contain non-serializable objects. Please implement a `get_config()` method in the subclassed Model for proper saving and loading. Defaulting to empty config.\n"
          ]
        },
        {
          "output_type": "stream",
          "name": "stdout",
          "text": [
            "\b\b\b\b\b\b\b\b\b\b\b\b\b\b\b\b\b\b\b\b\b\b\b\b\b\b\b\b\b\b\b\b\b\b\b\b\b\b\b\b\b\b\b\b\b\b\b\b\b\b\b\b\b\b\b\b\b\b\b\b\b\b\b\b\b\b\b\b\b\b\b\b\b\b\b\b\b\b\b\b\b\b\b\b\b\b\b\b\b\b\b\b\b\b\b\b\b\b\b\b\b\b\b\b\b\b\b\b\b\b\b\b\b\b\r375/375 [==============================] - 127s 339ms/step - loss_total: 0.1060 - loss_rebuild: 0.0868 - loss_kl: 191.9742\n"
          ]
        }
      ]
    },
    {
      "cell_type": "markdown",
      "source": [
        "## View embeddings"
      ],
      "metadata": {
        "id": "XezDIzyT-Os3"
      }
    },
    {
      "cell_type": "code",
      "source": [
        "_, _, z_test = vae.encoder(data[\"x_test\"])"
      ],
      "metadata": {
        "id": "jAM-YqujovME"
      },
      "execution_count": 180,
      "outputs": []
    },
    {
      "cell_type": "code",
      "source": [
        "# UMAP.\n",
        "reducer = umap.UMAP()\n",
        "proj = reducer.fit_transform(z_test)"
      ],
      "metadata": {
        "id": "m9QFV0uIpWrG"
      },
      "execution_count": 181,
      "outputs": []
    },
    {
      "cell_type": "code",
      "source": [
        "# Plot.\n",
        "plt.scatter(\n",
        "  x=proj[:, 0],\n",
        "  y=proj[:, 1],\n",
        "  c=data[\"y_test\"]\n",
        ")"
      ],
      "metadata": {
        "colab": {
          "base_uri": "https://localhost:8080/",
          "height": 448
        },
        "id": "YVUAJCQCqxcT",
        "outputId": "f0c83ab0-4208-46fb-fc4f-f04b543d8052"
      },
      "execution_count": 182,
      "outputs": [
        {
          "output_type": "execute_result",
          "data": {
            "text/plain": [
              "<matplotlib.collections.PathCollection at 0x781c15f508e0>"
            ]
          },
          "metadata": {},
          "execution_count": 182
        },
        {
          "output_type": "display_data",
          "data": {
            "text/plain": [
              "<Figure size 640x480 with 1 Axes>"
            ],
            "image/png": "[encoded data removed]"
          },
          "metadata": {}
        }
      ]
    },
    {
      "cell_type": "markdown",
      "source": [
        "### View reconstructions"
      ],
      "metadata": {
        "id": "77RtN3yHv912"
      }
    },
    {
      "cell_type": "code",
      "source": [
        "def plot_samples(\n",
        "  x_rebuilt,\n",
        "  y_test,\n",
        ") -> None:\n",
        "  x_rebuilt = x_rebuilt.numpy()\n",
        "  n_test = x_rebuilt.shape[0]\n",
        "  draw = np.random.choice(np.arange(n_test), size=9, replace=False)\n",
        "  x_plot = x_rebuilt[draw, :]\n",
        "  y_plot = y_test[draw]\n",
        "\n",
        "  # Plotting.\n",
        "  fig = plt.figure()\n",
        "  for i in range(9):\n",
        "    plt.subplot(3, 3, i + 1)\n",
        "    plt.imshow(x_plot[i, :])\n",
        "    plt.title(f\"True label: {y_plot[i]}\")\n",
        "    plt.axis(\"off\")\n",
        "  plt.show()\n",
        "  return None\n"
      ],
      "metadata": {
        "id": "7jvHcGvYwN87"
      },
      "execution_count": 183,
      "outputs": []
    },
    {
      "cell_type": "code",
      "source": [
        "x_rebuilt = vae.decoder(z_test)"
      ],
      "metadata": {
        "id": "WqOb_H8xuFxp"
      },
      "execution_count": 184,
      "outputs": []
    },
    {
      "cell_type": "code",
      "source": [
        "plot_samples(\n",
        "  x_rebuilt=x_rebuilt,\n",
        "  y_test=data[\"y_test\"]\n",
        ")"
      ],
      "metadata": {
        "colab": {
          "base_uri": "https://localhost:8080/",
          "height": 428
        },
        "id": "j7EEIXojz36s",
        "outputId": "b7712a1b-93cf-422f-e3b7-1ed5657fa464"
      },
      "execution_count": 185,
      "outputs": [
        {
          "output_type": "display_data",
          "data": {
            "text/plain": [
              "<Figure size 640x480 with 9 Axes>"
            ],
            "image/png": "[encoded data removed]"
          },
          "metadata": {}
        }
      ]
    },
    {
      "cell_type": "markdown",
      "source": [
        "### Characterize distributions"
      ],
      "metadata": {
        "id": "HUYZuVqmHT_D"
      }
    },
    {
      "cell_type": "code",
      "source": [
        "def characterize_dist(\n",
        "  x_test: np.ndarray,\n",
        "  y_test: np.ndarray,\n",
        "  vae: tf.keras.Model,\n",
        "  n_sample: int=100\n",
        ") -> Dict[int, Dict[str, tf.Tensor]]:\n",
        "\n",
        "  out = {}\n",
        "  for i in range(9):\n",
        "    x_i = x_test[y_test == i]\n",
        "    n_i = x_i.shape[0]\n",
        "    draw = np.random.choice(np.arange(n_i), size=n_sample, replace=False)\n",
        "    x_i = x_i[draw, :]\n",
        "\n",
        "    mu_i, log_var_i, _ = vae.encoder(x_i)\n",
        "    mu_i = tf.reduce_mean(mu_i, axis=0)\n",
        "    log_var_i = tf.reduce_mean(log_var_i, axis=0)\n",
        "    out[i] = {\n",
        "      \"mu\": mu_i,\n",
        "      \"log_var\": log_var_i,\n",
        "    }\n",
        "\n",
        "  return out"
      ],
      "metadata": {
        "id": "nLRuhWuXHWff"
      },
      "execution_count": 239,
      "outputs": []
    },
    {
      "cell_type": "code",
      "source": [
        "dist_param = characterize_dist(data[\"x_test\"], data[\"y_test\"], vae)"
      ],
      "metadata": {
        "id": "kETT1edsJAcg"
      },
      "execution_count": 240,
      "outputs": []
    },
    {
      "cell_type": "markdown",
      "source": [
        "### Sample"
      ],
      "metadata": {
        "id": "Bjbry_jpFDTZ"
      }
    },
    {
      "cell_type": "code",
      "source": [
        "def generate_image(\n",
        "    vae: tf.keras.Model,\n",
        "    label: int,\n",
        "    dist_param: Dict,\n",
        "    temp: float=1.0,\n",
        "  ) -> None:\n",
        "  \"\"\"Generate image.\n",
        "\n",
        "  Args:\n",
        "    vae: Fitted variational autoencoder.\n",
        "    label: Class to draw from.\n",
        "    dist_params: Mean and log-variance vector by class.\n",
        "    temp: Scalar to increase/descrease generative variance.\n",
        "\n",
        "  \"\"\"\n",
        "\n",
        "  latent_dim = tf.keras.backend.int_shape(vae.decoder.input)[1]\n",
        "\n",
        "  eps = tf.keras.backend.random_normal(shape=[latent_dim])\n",
        "  eps = tf.keras.backend.expand_dims(eps, axis=0)\n",
        "\n",
        "  mu = dist_param[label][\"mu\"]\n",
        "  log_var = dist_param[label][\"log_var\"]\n",
        "  z = mu + tf.exp(0.5 * log_var * temp) * eps\n",
        "\n",
        "  out = tf.squeeze(vae.decoder(z), axis=0)\n",
        "  out = out.numpy()\n",
        "\n",
        "  plt.imshow(out)\n",
        "  plt.title(f\"Generated image of class {label}.\")\n",
        "  plt.axis(\"off\")\n",
        "  plt.show()\n",
        "  return None"
      ],
      "metadata": {
        "id": "rtE4r1DVDDJT"
      },
      "execution_count": 256,
      "outputs": []
    },
    {
      "cell_type": "code",
      "source": [
        "generate_image(\n",
        "  vae=vae,\n",
        "  label=3,\n",
        "  dist_param=dist_param,\n",
        ")"
      ],
      "metadata": {
        "colab": {
          "base_uri": "https://localhost:8080/",
          "height": 428
        },
        "id": "dyuGcYhNGZyG",
        "outputId": "327ace42-f396-4554-c005-b47237bca3eb"
      },
      "execution_count": 284,
      "outputs": [
        {
          "output_type": "display_data",
          "data": {
            "text/plain": [
              "<Figure size 640x480 with 1 Axes>"
            ],
            "image/png": "[encoded data removed]"
          },
          "metadata": {}
        }
      ]
    }
  ]
}