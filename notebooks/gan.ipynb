{
  "nbformat": 4,
  "nbformat_minor": 0,
  "metadata": {
    "colab": {
      "provenance": [],
      "gpuType": "T4"
    },
    "kernelspec": {
      "name": "python3",
      "display_name": "Python 3"
    },
    "language_info": {
      "name": "python"
    },
    "accelerator": "GPU"
  },
  "cells": [
    {
      "cell_type": "code",
      "execution_count": 46,
      "metadata": {
        "colab": {
          "base_uri": "https://localhost:8080/"
        },
        "id": "9YRp_qgxBNf5",
        "outputId": "354a3417-bbdd-46d7-955b-019620240529"
      },
      "outputs": [
        {
          "output_type": "stream",
          "name": "stdout",
          "text": [
            "The tensorboard extension is already loaded. To reload it, use:\n",
            "  %reload_ext tensorboard\n"
          ]
        }
      ],
      "source": [
        "from typing import Any, Callable, Dict, Tuple\n",
        "\n",
        "import matplotlib.pyplot as plt\n",
        "import numpy as np\n",
        "import os\n",
        "from sklearn.model_selection import train_test_split\n",
        "import seaborn as sns\n",
        "import tensorflow as tf\n",
        "%load_ext tensorboard"
      ]
    },
    {
      "cell_type": "markdown",
      "source": [
        "# Basic GAN"
      ],
      "metadata": {
        "id": "OQlCzuO-B1_E"
      }
    },
    {
      "cell_type": "code",
      "source": [
        "def build_discrim(\n",
        "    base_filters: int=32,\n",
        "    drop_rate: float=0.2,\n",
        "    input_dim: int=28,\n",
        "    kernel_size: int=3,\n",
        "    num_blocks: int=2,\n",
        "    output_activation: str=\"sigmoid\"\n",
        ") -> Dict[str, Any]:\n",
        "  \"\"\"Build discriminator.\"\"\"\n",
        "\n",
        "  # Input.\n",
        "  input = tf.keras.layers.Input(shape=(input_dim, input_dim, 1), name=\"input\")\n",
        "  h = input\n",
        "\n",
        "  # Convolutional blocks.\n",
        "  for i in range(num_blocks):\n",
        "    h = tf.keras.layers.Conv2D(\n",
        "        base_filters * (2 ** i),\n",
        "        kernel_size,\n",
        "        padding=\"same\",\n",
        "        name=f\"conv{i}\"\n",
        "      )(h)\n",
        "    width = tf.keras.backend.int_shape(h)[1]\n",
        "    h = tf.keras.layers.Dropout(rate=drop_rate, name=f\"drop{i}\")(h)\n",
        "    if (width % 2 == 0):\n",
        "      h = tf.keras.layers.MaxPool2D(name=f\"pool{i}\")(h)\n",
        "    else:\n",
        "      h = tf.keras.layers.MaxPool2D(pool_size=1, name=f\"pool{i}\")(h)\n",
        "    h = tf.keras.layers.ELU(name=f\"elu{i}\")(h)\n",
        "\n",
        "  # Output layer.\n",
        "  last_conv_shape = tf.keras.backend.int_shape(h)\n",
        "  h = tf.keras.layers.Flatten(name=\"flat\")(h)\n",
        "  output = tf.keras.layers.Dense(1, activation=output_activation)(h)\n",
        "\n",
        "  # Build model.\n",
        "  model = tf.keras.Model(input, output, name=\"discriminator\")\n",
        "\n",
        "  # Output.\n",
        "  return {\n",
        "    \"model\": model,\n",
        "    \"input_shape\": tf.keras.backend.int_shape(input),\n",
        "    \"last_conv_shape\": last_conv_shape[1:],\n",
        "  }"
      ],
      "metadata": {
        "id": "MhUoa-QzCFPQ"
      },
      "execution_count": 2,
      "outputs": []
    },
    {
      "cell_type": "code",
      "source": [
        "def build_gen(\n",
        "    base_filters: int=128,\n",
        "    input_dim: int=128,\n",
        "    kernel_size: int=4,\n",
        "    num_blocks: int=3,\n",
        "    output_dim: int=28,\n",
        ") -> Dict[str, Any]:\n",
        "  \"\"\"Build generator.\"\"\"\n",
        "\n",
        "  # Input.\n",
        "  input = tf.keras.layers.Input(shape=(input_dim, ), name=\"input\")\n",
        "  h = tf.keras.layers.Reshape(\n",
        "      (1, 1,input_dim), name=\"reshape1\")(input)\n",
        "\n",
        "  # Convolutional blocks.\n",
        "  for i in range(num_blocks):\n",
        "    h = tf.keras.layers.Conv2DTranspose(\n",
        "        base_filters // (2 ** i),\n",
        "        kernel_size,\n",
        "        strides=2,\n",
        "        padding=\"same\",\n",
        "        name=f\"conv{i}\",\n",
        "        use_bias=False\n",
        "    )(h)\n",
        "    h = tf.keras.layers.BatchNormalization(name=f\"batch{i}\")(h)\n",
        "    h = tf.keras.layers.ELU(name=f\"elu{i}\")(h)\n",
        "\n",
        "  last_conv_shape = tf.keras.backend.int_shape(h)\n",
        "\n",
        "  # Convert to output shape.\n",
        "  h = tf.keras.layers.Flatten(name=\"flat\")(h)\n",
        "  target_shape = output_dim * output_dim\n",
        "  h = tf.keras.layers.Dense(target_shape, activation=\"tanh\")(h)\n",
        "  output = tf.keras.layers.Reshape(\n",
        "      (output_dim, output_dim, 1), name=\"reshape2\")(h)\n",
        "\n",
        "  # Build model.\n",
        "  model = tf.keras.Model(input, output, name=\"generator\")\n",
        "\n",
        "  # Output.\n",
        "  return {\n",
        "    \"model\": model,\n",
        "    \"input_shape\": tf.keras.backend.int_shape(input),\n",
        "    \"last_conv_shape\": last_conv_shape[1:],\n",
        "  }"
      ],
      "metadata": {
        "id": "IWf4bCqrE2x2"
      },
      "execution_count": 3,
      "outputs": []
    },
    {
      "cell_type": "code",
      "source": [
        "class GAN(tf.keras.Model):\n",
        "\n",
        "  def __init__(\n",
        "      self, disc: tf.keras.Model, gen: tf.keras.Model, latent_dim: int=128):\n",
        "    super(GAN, self).__init__()\n",
        "    self.disc = disc\n",
        "    self.gen = gen\n",
        "    self.latent_dim = latent_dim\n",
        "\n",
        "  def compile(\n",
        "      self,\n",
        "      disc_opt: tf.keras.optimizers.Optimizer,\n",
        "      gen_opt: tf.keras.optimizers.Optimizer,\n",
        "  ):\n",
        "    super(GAN, self).compile()\n",
        "    self.loss_fn = tf.keras.losses.BinaryCrossentropy(name=\"bce\")\n",
        "    self.disc_opt = disc_opt\n",
        "    self.gen_opt = gen_opt\n",
        "\n",
        "    # Loss trackers.\n",
        "    self.disc_loss = tf.keras.metrics.Mean(name=\"disc_loss\")\n",
        "    self.gen_loss = tf.keras.metrics.Mean(name=\"gen_loss\")\n",
        "\n",
        "  @property\n",
        "  def metrics(self):\n",
        "    return [\n",
        "        self.disc_loss,\n",
        "        self.gen_loss\n",
        "    ]\n",
        "\n",
        "  def train_step(self, real_images):\n",
        "    batch_size = tf.shape(real_images)[0]\n",
        "    random_draws = tf.random.normal(shape=(batch_size, self.latent_dim))\n",
        "\n",
        "    with tf.GradientTape() as gen_tape, tf.GradientTape() as disc_tape:\n",
        "      fake_images = self.gen(random_draws, training=True)\n",
        "\n",
        "      real_probs = self.disc(real_images, training=True)\n",
        "      fake_probs = self.disc(fake_images, training=True)\n",
        "\n",
        "      # Label smoothing.\n",
        "      real_labs = tf.ones_like(real_probs) + \\\n",
        "        0.1 * tf.random.uniform(tf.shape(real_probs))\n",
        "      fake_labs = tf.zeros_like(fake_probs) + \\\n",
        "        0.1 * tf.random.uniform(tf.shape(fake_probs))\n",
        "\n",
        "      d_real_loss = self.loss_fn(real_labs, real_probs)\n",
        "      d_fake_loss = self.loss_fn(fake_labs, fake_probs)\n",
        "      d_loss = tf.reduce_mean([d_real_loss, d_fake_loss])\n",
        "\n",
        "      g_loss = self.loss_fn(real_labs, fake_probs)\n",
        "\n",
        "    # Caculate and apply gradients.\n",
        "    disc_grads = disc_tape.gradient(d_loss, self.disc.trainable_variables)\n",
        "    gen_grads = gen_tape.gradient(g_loss, self.gen.trainable_variables)\n",
        "\n",
        "    self.disc_opt.apply_gradients(zip(disc_grads, self.disc.trainable_variables))\n",
        "    self.gen_opt.apply_gradients(zip(gen_grads, self.gen.trainable_variables))\n",
        "\n",
        "    # Update metrics.\n",
        "    self.disc_loss.update_state(d_loss)\n",
        "    self.gen_loss.update_state(g_loss)\n",
        "\n",
        "    return {m.name: m.result() for m in self.metrics}"
      ],
      "metadata": {
        "id": "sG9GLkbAKeha"
      },
      "execution_count": 4,
      "outputs": []
    },
    {
      "cell_type": "markdown",
      "source": [
        "## Example"
      ],
      "metadata": {
        "id": "3Y_lJTYtBXC_"
      }
    },
    {
      "cell_type": "markdown",
      "source": [
        "### Data"
      ],
      "metadata": {
        "id": "t1ySM_j4BYMz"
      }
    },
    {
      "cell_type": "code",
      "source": [
        "def prepare_mnist_data(\n",
        "  val_frac: float=0.2,\n",
        "  seed: int=101,\n",
        ") -> Dict[str, Any]:\n",
        "\n",
        "  # Load data.\n",
        "  (x_train, y_train), (x_test, y_test) = \\\n",
        "    tf.keras.datasets.mnist.load_data()\n",
        "\n",
        "  # Standardize.\n",
        "  x_train = (x_train.astype(\"float32\") - 127.5) / 255.0\n",
        "  x_test  = (x_test.astype(\"float32\") - 127.5) / 255.0\n",
        "\n",
        "  # Add channel axis.\n",
        "  x_train = np.expand_dims(x_train, axis=-1)\n",
        "  x_test = np.expand_dims(x_test, axis=-1)\n",
        "\n",
        "  # Output.\n",
        "  return {\n",
        "    \"x_train\": x_train,\n",
        "    \"y_train\": y_train,\n",
        "    \"x_test\": x_test,\n",
        "    \"y_test\": y_test,\n",
        "  }\n"
      ],
      "metadata": {
        "id": "9Tk3VQxPBUWg"
      },
      "execution_count": 5,
      "outputs": []
    },
    {
      "cell_type": "code",
      "source": [
        "data = prepare_mnist_data()"
      ],
      "metadata": {
        "colab": {
          "base_uri": "https://localhost:8080/"
        },
        "id": "rI1PGmL7Bcnl",
        "outputId": "f8f67d9c-a35b-4667-a9f1-99268a826215"
      },
      "execution_count": 27,
      "outputs": [
        {
          "output_type": "stream",
          "name": "stdout",
          "text": [
            "Downloading data from https://storage.googleapis.com/tensorflow/tf-keras-datasets/mnist.npz\n",
            "11490434/11490434 [==============================] - 0s 0us/step\n"
          ]
        }
      ]
    },
    {
      "cell_type": "code",
      "source": [
        "data[\"x_train\"][0].shape"
      ],
      "metadata": {
        "colab": {
          "base_uri": "https://localhost:8080/"
        },
        "id": "zU00wgwTBiq1",
        "outputId": "f7399e8f-c44d-4597-fdb3-70e994e513de"
      },
      "execution_count": 28,
      "outputs": [
        {
          "output_type": "execute_result",
          "data": {
            "text/plain": [
              "(28, 28, 1)"
            ]
          },
          "metadata": {},
          "execution_count": 28
        }
      ]
    },
    {
      "cell_type": "markdown",
      "source": [
        "### Model"
      ],
      "metadata": {
        "id": "WF4IsOjiENA9"
      }
    },
    {
      "cell_type": "code",
      "source": [
        "discrim_out = build_discrim()\n",
        "discrim = discrim_out[\"model\"]\n",
        "discrim.summary()"
      ],
      "metadata": {
        "colab": {
          "base_uri": "https://localhost:8080/"
        },
        "id": "oVeJooP-BxYT",
        "outputId": "ec702655-e6be-44c5-9e48-115048a87ddb"
      },
      "execution_count": 25,
      "outputs": [
        {
          "output_type": "stream",
          "name": "stdout",
          "text": [
            "Model: \"discriminator\"\n",
            "_________________________________________________________________\n",
            " Layer (type)                Output Shape              Param #   \n",
            "=================================================================\n",
            " input (InputLayer)          [(None, 28, 28, 1)]       0         \n",
            "                                                                 \n",
            " conv0 (Conv2D)              (None, 28, 28, 32)        320       \n",
            "                                                                 \n",
            " drop0 (Dropout)             (None, 28, 28, 32)        0         \n",
            "                                                                 \n",
            " pool0 (MaxPooling2D)        (None, 14, 14, 32)        0         \n",
            "                                                                 \n",
            " elu0 (ELU)                  (None, 14, 14, 32)        0         \n",
            "                                                                 \n",
            " conv1 (Conv2D)              (None, 14, 14, 64)        18496     \n",
            "                                                                 \n",
            " drop1 (Dropout)             (None, 14, 14, 64)        0         \n",
            "                                                                 \n",
            " pool1 (MaxPooling2D)        (None, 7, 7, 64)          0         \n",
            "                                                                 \n",
            " elu1 (ELU)                  (None, 7, 7, 64)          0         \n",
            "                                                                 \n",
            " flat (Flatten)              (None, 3136)              0         \n",
            "                                                                 \n",
            " dense_4 (Dense)             (None, 1)                 3137      \n",
            "                                                                 \n",
            "=================================================================\n",
            "Total params: 21953 (85.75 KB)\n",
            "Trainable params: 21953 (85.75 KB)\n",
            "Non-trainable params: 0 (0.00 Byte)\n",
            "_________________________________________________________________\n"
          ]
        }
      ]
    },
    {
      "cell_type": "code",
      "source": [
        "gen_out = build_gen()\n",
        "generator = gen_out[\"model\"]\n",
        "generator.summary()"
      ],
      "metadata": {
        "colab": {
          "base_uri": "https://localhost:8080/"
        },
        "id": "YmUjCafkEQQU",
        "outputId": "d14b4c28-de6a-45d5-f924-619636bbc286"
      },
      "execution_count": 26,
      "outputs": [
        {
          "output_type": "stream",
          "name": "stdout",
          "text": [
            "Model: \"generator\"\n",
            "_________________________________________________________________\n",
            " Layer (type)                Output Shape              Param #   \n",
            "=================================================================\n",
            " input (InputLayer)          [(None, 128)]             0         \n",
            "                                                                 \n",
            " reshape1 (Reshape)          (None, 1, 1, 128)         0         \n",
            "                                                                 \n",
            " conv0 (Conv2DTranspose)     (None, 2, 2, 128)         262144    \n",
            "                                                                 \n",
            " batch0 (BatchNormalization  (None, 2, 2, 128)         512       \n",
            " )                                                               \n",
            "                                                                 \n",
            " elu0 (ELU)                  (None, 2, 2, 128)         0         \n",
            "                                                                 \n",
            " conv1 (Conv2DTranspose)     (None, 4, 4, 64)          131072    \n",
            "                                                                 \n",
            " batch1 (BatchNormalization  (None, 4, 4, 64)          256       \n",
            " )                                                               \n",
            "                                                                 \n",
            " elu1 (ELU)                  (None, 4, 4, 64)          0         \n",
            "                                                                 \n",
            " conv2 (Conv2DTranspose)     (None, 8, 8, 32)          32768     \n",
            "                                                                 \n",
            " batch2 (BatchNormalization  (None, 8, 8, 32)          128       \n",
            " )                                                               \n",
            "                                                                 \n",
            " elu2 (ELU)                  (None, 8, 8, 32)          0         \n",
            "                                                                 \n",
            " flat (Flatten)              (None, 2048)              0         \n",
            "                                                                 \n",
            " dense_5 (Dense)             (None, 784)               1606416   \n",
            "                                                                 \n",
            " reshape2 (Reshape)          (None, 28, 28, 1)         0         \n",
            "                                                                 \n",
            "=================================================================\n",
            "Total params: 2033296 (7.76 MB)\n",
            "Trainable params: 2032848 (7.75 MB)\n",
            "Non-trainable params: 448 (1.75 KB)\n",
            "_________________________________________________________________\n"
          ]
        }
      ]
    },
    {
      "cell_type": "markdown",
      "source": [
        "### Training\n",
        "* Note that no labels are provided."
      ],
      "metadata": {
        "id": "GB8y4JbqPYqO"
      }
    },
    {
      "cell_type": "code",
      "source": [
        "# Specify model.\n",
        "disc = build_discrim()[\"model\"]\n",
        "gen = build_gen()[\"model\"]\n",
        "gan = GAN(disc, gen)"
      ],
      "metadata": {
        "id": "GW04iGpwPYBQ"
      },
      "execution_count": 27,
      "outputs": []
    },
    {
      "cell_type": "code",
      "source": [
        "# Optimizers.\n",
        "disc_opt = tf.keras.optimizers.AdamW()\n",
        "gen_opt = tf.keras.optimizers.AdamW()\n",
        "gan.compile(disc_opt, gen_opt)"
      ],
      "metadata": {
        "id": "U2IRUIxWPiR-"
      },
      "execution_count": 28,
      "outputs": []
    },
    {
      "cell_type": "code",
      "source": [
        "# Fit.\n",
        "history = gan.fit(\n",
        "  x=data[\"x_train\"],\n",
        "  batch_size=128,\n",
        "  epochs=2\n",
        ")"
      ],
      "metadata": {
        "colab": {
          "base_uri": "https://localhost:8080/"
        },
        "id": "dUDg2SZcP4Jb",
        "outputId": "65dbc6d7-a0cf-439d-cb40-ae16a51f36a4"
      },
      "execution_count": 29,
      "outputs": [
        {
          "output_type": "stream",
          "name": "stdout",
          "text": [
            "Epoch 1/2\n",
            "469/469 [==============================] - 263s 554ms/step - disc_loss: 0.3624 - gen_loss: 2.4219\n",
            "Epoch 2/2\n",
            "469/469 [==============================] - 258s 550ms/step - disc_loss: 0.4870 - gen_loss: 1.9573\n"
          ]
        },
        {
          "output_type": "execute_result",
          "data": {
            "text/plain": [
              "<keras.src.callbacks.History at 0x7c54334f0df0>"
            ]
          },
          "metadata": {},
          "execution_count": 29
        }
      ]
    },
    {
      "cell_type": "markdown",
      "source": [
        "### Generate"
      ],
      "metadata": {
        "id": "hxdQjnVOcFVn"
      }
    },
    {
      "cell_type": "code",
      "source": [
        "def _gen_img(fit: tf.keras.Model) -> np.ndarray:\n",
        "  # Extract dimension of latent vector.\n",
        "  z_dim = fit.gen.layers[0].input_shape[0][1]\n",
        "\n",
        "  # Draw latent vector.\n",
        "  draw = tf.random.normal((1, z_dim))\n",
        "\n",
        "  # Generate image.\n",
        "  img = fit.gen(draw)\n",
        "  img = np.squeeze(img, axis=0)\n",
        "\n",
        "  # Rescale.\n",
        "  img = (127.5 * img) + 127.5\n",
        "  return img"
      ],
      "metadata": {
        "id": "XTaPU8K5c3j8"
      },
      "execution_count": 32,
      "outputs": []
    },
    {
      "cell_type": "code",
      "source": [
        "def plot_draws(fit: tf.keras.Model, n_draw: int=9):\n",
        "  fig, axes = plt.subplots(3, 3, figsize=(6, 6))\n",
        "  axes = axes.flatten()\n",
        "\n",
        "  for i in range(n_draw):\n",
        "    img = _gen_img(fit)\n",
        "    axes[i].imshow(img.squeeze(), cmap=\"gray\")\n",
        "    axes[i].axis(\"off\")\n",
        "\n",
        "  plt.tight_layout()\n",
        "  plt.show()\n",
        "\n",
        "  return None"
      ],
      "metadata": {
        "id": "C1Mb10-RV2RH"
      },
      "execution_count": 33,
      "outputs": []
    },
    {
      "cell_type": "code",
      "source": [
        "plot_draws(gan)"
      ],
      "metadata": {
        "colab": {
          "base_uri": "https://localhost:8080/",
          "height": 607
        },
        "id": "7aFmVrcmc00H",
        "outputId": "f6c875f9-3cfe-4a2b-ac49-3acdd4f7f633"
      },
      "execution_count": 32,
      "outputs": [
        {
          "output_type": "display_data",
          "data": {
            "text/plain": [
              "<Figure size 600x600 with 9 Axes>"
            ],
            "image/png": "[encoded data removed]"
          },
          "metadata": {}
        }
      ]
    },
    {
      "cell_type": "markdown",
      "source": [
        "# WGAN\n",
        "\n",
        "* Original paper: [Arjovsky 2017](https://arxiv.org/abs/1701.07875)\n",
        "* [Code example](https://keras.io/examples/generative/wgan_gp/)"
      ],
      "metadata": {
        "id": "mJ4K9J1TExr3"
      }
    },
    {
      "cell_type": "code",
      "source": [
        "class WGAN(tf.keras.Model):\n",
        "\n",
        "  def __init__(\n",
        "      self,\n",
        "      disc: tf.keras.Model,\n",
        "      gen: tf.keras.Model,\n",
        "      d_steps: int=5,\n",
        "      gp_weight: float=10.0,\n",
        "      latent_dim: int=128,\n",
        "  ):\n",
        "    \"\"\"Wasserstein GAN.\n",
        "\n",
        "    Args:\n",
        "      disc: Discriminator model.\n",
        "      gen: Generator model.\n",
        "      d_steps: Discriminator steps per generator step.\n",
        "      gp_weight: Gradient penalty weight.\n",
        "      latent_dim: Latent dimension from which to generate.\n",
        "    \"\"\"\n",
        "    super(WGAN, self).__init__()\n",
        "    self.disc = disc\n",
        "    self.gen = gen\n",
        "    self.d_steps = d_steps\n",
        "    self.gp_weight = gp_weight\n",
        "    self.latent_dim = latent_dim\n",
        "\n",
        "  def disc_loss_fn(self, real_logits, fake_logits):\n",
        "    return tf.reduce_mean(fake_logits) - tf.reduce_mean(real_logits)\n",
        "\n",
        "  def gen_loss_fn(self, fake_logits):\n",
        "    return -tf.reduce_mean(fake_logits)\n",
        "\n",
        "  def compile(\n",
        "      self,\n",
        "      disc_opt: tf.keras.optimizers.Optimizer,\n",
        "      gen_opt: tf.keras.optimizers.Optimizer,\n",
        "  ):\n",
        "    super(WGAN, self).compile()\n",
        "    self.disc_opt = disc_opt\n",
        "    self.gen_opt = gen_opt\n",
        "\n",
        "    # Loss trackers.\n",
        "    self.disc_loss = tf.keras.metrics.Mean(name=\"disc_loss\")\n",
        "    self.gen_loss = tf.keras.metrics.Mean(name=\"gen_loss\")\n",
        "\n",
        "  def grad_penalty(self, real_images, fake_images):\n",
        "    batch_size = tf.shape(real_images)[0]\n",
        "    alpha = tf.random.uniform(\n",
        "        shape=(batch_size, 1, 1, 1), minval=0.0, maxval=1.0)\n",
        "    interpol = real_images + alpha * (fake_images - real_images)\n",
        "\n",
        "    with tf.GradientTape() as tape:\n",
        "      tape.watch(interpol)\n",
        "      pred = self.disc(interpol, training=True)\n",
        "\n",
        "    grads = tape.gradient(pred, [interpol])[0]\n",
        "    norm = tf.sqrt(tf.reduce_sum(tf.square(grads), axis=[1, 2, 3]))\n",
        "    return tf.reduce_mean(tf.square(norm - 1.0))\n",
        "\n",
        "  @property\n",
        "  def metrics(self):\n",
        "    return [\n",
        "        self.disc_loss,\n",
        "        self.gen_loss\n",
        "    ]\n",
        "\n",
        "  def train_step(self, real_images):\n",
        "    batch_size = tf.shape(real_images)[0]\n",
        "\n",
        "    # Train the descriminator.\n",
        "    for i in range(self.d_steps):\n",
        "      random_draws = tf.random.normal(shape=(batch_size, self.latent_dim))\n",
        "\n",
        "      with tf.GradientTape() as d_tape:\n",
        "        fake_images = self.gen(random_draws, training=True)\n",
        "        real_logits = self.disc(real_images, training=True)\n",
        "        fake_logits = self.disc(fake_images, training=True)\n",
        "\n",
        "        d_loss = self.disc_loss_fn(real_logits, fake_logits)\n",
        "        gp = self.grad_penalty(real_images, fake_images)\n",
        "        d_loss += self.gp_weight * gp\n",
        "\n",
        "      # Update discriminator.\n",
        "      disc_grads = d_tape.gradient(d_loss, self.disc.trainable_variables)\n",
        "      self.disc_opt.apply_gradients(\n",
        "          zip(disc_grads, self.disc.trainable_variables))\n",
        "\n",
        "    # Train the generator.\n",
        "    random_draws = tf.random.normal(shape=(batch_size, self.latent_dim))\n",
        "\n",
        "    with tf.GradientTape() as g_tape:\n",
        "      fake_images = self.gen(random_draws, training=True)\n",
        "      fake_logits = self.disc(fake_images, training=True)\n",
        "      g_loss = self.gen_loss_fn(fake_logits)\n",
        "\n",
        "    # Update generator.\n",
        "    gen_grads = g_tape.gradient(g_loss, self.gen.trainable_variables)\n",
        "    self.gen_opt.apply_gradients(zip(gen_grads, self.gen.trainable_variables))\n",
        "\n",
        "    # Update metrics.\n",
        "    self.disc_loss.update_state(d_loss)\n",
        "    self.gen_loss.update_state(g_loss)\n",
        "\n",
        "    return {m.name: m.result() for m in self.metrics}"
      ],
      "metadata": {
        "id": "tLqinQ0kcndN"
      },
      "execution_count": 35,
      "outputs": []
    },
    {
      "cell_type": "markdown",
      "source": [
        "## Example"
      ],
      "metadata": {
        "id": "kXJ7JWKELH-N"
      }
    },
    {
      "cell_type": "markdown",
      "source": [
        "### Data\n",
        "* See function definition above."
      ],
      "metadata": {
        "id": "u1A7kqUxNFe3"
      }
    },
    {
      "cell_type": "code",
      "source": [
        "data = prepare_mnist_data()"
      ],
      "metadata": {
        "id": "swtL-mdJNGXH"
      },
      "execution_count": 36,
      "outputs": []
    },
    {
      "cell_type": "markdown",
      "source": [
        "### Model\n",
        "* Note the output activation is set to linear such that the discriminator returns logits."
      ],
      "metadata": {
        "id": "jZsNNIzrLJAX"
      }
    },
    {
      "cell_type": "code",
      "source": [
        "discrim_out = build_discrim(output_activation=\"linear\")\n",
        "disc = discrim_out[\"model\"]"
      ],
      "metadata": {
        "id": "iN5RlBm8LHIm"
      },
      "execution_count": 37,
      "outputs": []
    },
    {
      "cell_type": "code",
      "source": [
        "gen_out = build_gen()\n",
        "gen = gen_out[\"model\"]"
      ],
      "metadata": {
        "id": "Jsnlw7wOL2EF"
      },
      "execution_count": 38,
      "outputs": []
    },
    {
      "cell_type": "code",
      "source": [
        "wgan = WGAN(disc, gen)"
      ],
      "metadata": {
        "id": "CtqljaCnMYJq"
      },
      "execution_count": 39,
      "outputs": []
    },
    {
      "cell_type": "markdown",
      "source": [
        "### Callback"
      ],
      "metadata": {
        "id": "bbf6QOiTS20C"
      }
    },
    {
      "cell_type": "code",
      "source": [
        "class ImgSaver(tf.keras.callbacks.Callback):\n",
        "    def __init__(self, num_img=3, latent_dim=128, out_dir=\"logs/wgan/imgs\"):\n",
        "        self.num_img = num_img\n",
        "        self.latent_dim = latent_dim\n",
        "        self.out_dir = out_dir\n",
        "        if not os.path.exists(out_dir):\n",
        "          os.mkdir(out_dir)\n",
        "\n",
        "    def on_epoch_end(self, epoch, logs=None):\n",
        "        if epoch % 2 == 0:\n",
        "          random_draws = tf.random.normal(\n",
        "              shape=(self.num_img, self.latent_dim))\n",
        "          gen_imgs = self.model.gen(random_draws)\n",
        "          gen_imgs = (gen_imgs * 127.5) + 127.5\n",
        "\n",
        "          for i in range(self.num_img):\n",
        "              img = gen_imgs[i].numpy()\n",
        "              img = tf.keras.utils.array_to_img(img)\n",
        "              out_file = os.path.join(\n",
        "                  self.out_dir, f\"generated_e{epoch}_i{i}.png\")\n",
        "              img.save(out_file)"
      ],
      "metadata": {
        "id": "qzXMFjxSS3vU"
      },
      "execution_count": 56,
      "outputs": []
    },
    {
      "cell_type": "markdown",
      "source": [
        "### Training\n",
        "* Use GPU"
      ],
      "metadata": {
        "id": "qCxbxfaPMV7s"
      }
    },
    {
      "cell_type": "code",
      "source": [
        "tensorboard_callback = tf.keras.callbacks.TensorBoard(\n",
        "  log_dir=\"logs/wgan/\",\n",
        "  write_graph=False,\n",
        ")"
      ],
      "metadata": {
        "id": "XvHBDiLjOqRu"
      },
      "execution_count": 57,
      "outputs": []
    },
    {
      "cell_type": "code",
      "source": [
        "# Optimizers.\n",
        "disc_opt = tf.keras.optimizers.AdamW()\n",
        "gen_opt = tf.keras.optimizers.AdamW()\n",
        "wgan.compile(disc_opt, gen_opt)"
      ],
      "metadata": {
        "id": "odVXxQTXMnml"
      },
      "execution_count": 58,
      "outputs": []
    },
    {
      "cell_type": "code",
      "source": [
        "# Fit.\n",
        "history = wgan.fit(\n",
        "  x=data[\"x_train\"],\n",
        "  batch_size=128,\n",
        "  epochs=20,\n",
        "  callbacks=[tensorboard_callback, ImgSaver()]\n",
        ")"
      ],
      "metadata": {
        "colab": {
          "base_uri": "https://localhost:8080/"
        },
        "id": "w3oEcZ67MBkH",
        "outputId": "6c6d3f68-024e-4752-8289-946738083077"
      },
      "execution_count": 59,
      "outputs": [
        {
          "output_type": "stream",
          "name": "stdout",
          "text": [
            "Epoch 1/20\n",
            "469/469 [==============================] - 35s 59ms/step - disc_loss: -2.7145 - gen_loss: 3.1037\n",
            "Epoch 2/20\n",
            "469/469 [==============================] - 28s 59ms/step - disc_loss: -2.4990 - gen_loss: 6.8201\n",
            "Epoch 3/20\n",
            "469/469 [==============================] - 27s 58ms/step - disc_loss: -2.2972 - gen_loss: 10.9187\n",
            "Epoch 4/20\n",
            "469/469 [==============================] - 28s 59ms/step - disc_loss: -2.0927 - gen_loss: 9.5326\n",
            "Epoch 5/20\n",
            "469/469 [==============================] - 28s 59ms/step - disc_loss: -1.9710 - gen_loss: 9.5213\n",
            "Epoch 6/20\n",
            "469/469 [==============================] - 27s 59ms/step - disc_loss: -1.8893 - gen_loss: 8.8339\n",
            "Epoch 7/20\n",
            "469/469 [==============================] - 28s 59ms/step - disc_loss: -1.8156 - gen_loss: 9.2349\n",
            "Epoch 8/20\n",
            "469/469 [==============================] - 28s 59ms/step - disc_loss: -1.7732 - gen_loss: 11.1505\n",
            "Epoch 9/20\n",
            "469/469 [==============================] - 28s 59ms/step - disc_loss: -1.7282 - gen_loss: 11.9110\n",
            "Epoch 10/20\n",
            "469/469 [==============================] - 28s 59ms/step - disc_loss: -1.7183 - gen_loss: 12.5470\n",
            "Epoch 11/20\n",
            "469/469 [==============================] - 28s 59ms/step - disc_loss: -1.6773 - gen_loss: 12.2195\n",
            "Epoch 12/20\n",
            "469/469 [==============================] - 28s 59ms/step - disc_loss: -1.6376 - gen_loss: 12.0336\n",
            "Epoch 13/20\n",
            "469/469 [==============================] - 28s 59ms/step - disc_loss: -1.6299 - gen_loss: 11.4027\n",
            "Epoch 14/20\n",
            "469/469 [==============================] - 28s 59ms/step - disc_loss: -1.5919 - gen_loss: 11.3802\n",
            "Epoch 15/20\n",
            "469/469 [==============================] - 28s 59ms/step - disc_loss: -1.5935 - gen_loss: 11.4278\n",
            "Epoch 16/20\n",
            "469/469 [==============================] - 28s 59ms/step - disc_loss: -1.5743 - gen_loss: 11.0732\n",
            "Epoch 17/20\n",
            "469/469 [==============================] - 28s 59ms/step - disc_loss: -1.5478 - gen_loss: 13.5034\n",
            "Epoch 18/20\n",
            "469/469 [==============================] - 28s 59ms/step - disc_loss: -1.5352 - gen_loss: 12.1165\n",
            "Epoch 19/20\n",
            "469/469 [==============================] - 28s 59ms/step - disc_loss: -1.5112 - gen_loss: 10.7452\n",
            "Epoch 20/20\n",
            "469/469 [==============================] - 28s 59ms/step - disc_loss: -1.4962 - gen_loss: 10.8375\n"
          ]
        }
      ]
    },
    {
      "cell_type": "code",
      "source": [
        "# %tensorboard --logdir logs/wgan/"
      ],
      "metadata": {
        "id": "F_bsBF9OPJMI"
      },
      "execution_count": 60,
      "outputs": []
    },
    {
      "cell_type": "markdown",
      "source": [
        "### Generate\n",
        "* See function definitions above."
      ],
      "metadata": {
        "id": "YsKF90ozOWXW"
      }
    },
    {
      "cell_type": "code",
      "source": [
        "plot_draws(wgan)"
      ],
      "metadata": {
        "colab": {
          "base_uri": "https://localhost:8080/",
          "height": 607
        },
        "id": "OHlbKkbbNDvZ",
        "outputId": "a40e89dc-e444-4e48-d607-392683be67f5"
      },
      "execution_count": 61,
      "outputs": [
        {
          "output_type": "display_data",
          "data": {
            "text/plain": [
              "<Figure size 600x600 with 9 Axes>"
            ],
            "image/png": "[encoded data removed]"
          },
          "metadata": {}
        }
      ]
    },
    {
      "cell_type": "code",
      "source": [],
      "metadata": {
        "id": "jgsN5h5FOxMe"
      },
      "execution_count": null,
      "outputs": []
    }
  ]
}